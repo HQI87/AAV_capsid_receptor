{
 "cells": [
  {
   "cell_type": "markdown",
   "metadata": {},
   "source": [
    "# SVAE-based variant generation using pulldown assay data: LY6C1-Fc\n"
   ]
  },
  {
   "cell_type": "code",
   "execution_count": 1,
   "metadata": {},
   "outputs": [],
   "source": [
    "%load_ext autoreload\n",
    "%autoreload 2"
   ]
  },
  {
   "cell_type": "code",
   "execution_count": 2,
   "metadata": {},
   "outputs": [],
   "source": [
    "import numpy as np\n",
    "import pandas as pd\n",
    "import pickle\n",
    "import random\n",
    "import tensorflow as tf\n",
    "import os\n",
    "import sys\n",
    "\n",
    "from pathlib import Path\n",
    "current_dir = Path(os.getcwd())\n",
    "top_dir = current_dir.parent\n",
    "sys.path.append(str(top_dir))\n",
    "\n",
    "\n",
    "from svae.SVAE import SVAE\n",
    "from svae.train import train\n",
    "from svae.generate import generate_sequences\n",
    "from utils.data_processing import prep_data, make_tf_batches, seq_to_onehot\n",
    "from utils.plots import plot_latent_space\n"
   ]
  },
  {
   "cell_type": "code",
   "execution_count": 3,
   "metadata": {},
   "outputs": [
    {
     "data": {
      "text/plain": [
       "'2.5.0'"
      ]
     },
     "execution_count": 3,
     "metadata": {},
     "output_type": "execute_result"
    }
   ],
   "source": [
    "tf.__version__"
   ]
  },
  {
   "cell_type": "markdown",
   "metadata": {},
   "source": [
    "## Data\n"
   ]
  },
  {
   "cell_type": "code",
   "execution_count": 4,
   "metadata": {},
   "outputs": [
    {
     "data": {
      "text/html": [
       "<div>\n",
       "<style scoped>\n",
       "    .dataframe tbody tr th:only-of-type {\n",
       "        vertical-align: middle;\n",
       "    }\n",
       "\n",
       "    .dataframe tbody tr th {\n",
       "        vertical-align: top;\n",
       "    }\n",
       "\n",
       "    .dataframe thead th {\n",
       "        text-align: right;\n",
       "    }\n",
       "</style>\n",
       "<table border=\"1\" class=\"dataframe\">\n",
       "  <thead>\n",
       "    <tr style=\"text-align: right;\">\n",
       "      <th></th>\n",
       "      <th>AA_sequence</th>\n",
       "      <th>starter_virus_mean_RPM</th>\n",
       "      <th>LY6A_log2enr</th>\n",
       "      <th>LY6A_cv_RPM</th>\n",
       "      <th>LY6A_mean_RPM</th>\n",
       "      <th>LY6C1_log2enr</th>\n",
       "      <th>LY6C1_cv_RPM</th>\n",
       "      <th>LY6C1_mean_RPM</th>\n",
       "    </tr>\n",
       "  </thead>\n",
       "  <tbody>\n",
       "    <tr>\n",
       "      <th>0</th>\n",
       "      <td>NAVSRAG</td>\n",
       "      <td>333.473218</td>\n",
       "      <td>-3.201301</td>\n",
       "      <td>0.405151</td>\n",
       "      <td>36.255449</td>\n",
       "      <td>-1.724217</td>\n",
       "      <td>0.103689</td>\n",
       "      <td>100.929909</td>\n",
       "    </tr>\n",
       "    <tr>\n",
       "      <th>1</th>\n",
       "      <td>VRPNGSG</td>\n",
       "      <td>328.441120</td>\n",
       "      <td>-3.052515</td>\n",
       "      <td>0.254412</td>\n",
       "      <td>39.587581</td>\n",
       "      <td>-1.046010</td>\n",
       "      <td>0.142009</td>\n",
       "      <td>159.065919</td>\n",
       "    </tr>\n",
       "    <tr>\n",
       "      <th>2</th>\n",
       "      <td>GTRPGLL</td>\n",
       "      <td>239.470574</td>\n",
       "      <td>-4.047358</td>\n",
       "      <td>0.655096</td>\n",
       "      <td>14.483582</td>\n",
       "      <td>-3.680601</td>\n",
       "      <td>0.484687</td>\n",
       "      <td>18.675866</td>\n",
       "    </tr>\n",
       "    <tr>\n",
       "      <th>3</th>\n",
       "      <td>FGGSRTP</td>\n",
       "      <td>215.893749</td>\n",
       "      <td>-2.866125</td>\n",
       "      <td>0.392306</td>\n",
       "      <td>29.610816</td>\n",
       "      <td>-1.367466</td>\n",
       "      <td>0.287778</td>\n",
       "      <td>83.674266</td>\n",
       "    </tr>\n",
       "    <tr>\n",
       "      <th>4</th>\n",
       "      <td>LDKRNLV</td>\n",
       "      <td>202.031793</td>\n",
       "      <td>-3.827988</td>\n",
       "      <td>0.322309</td>\n",
       "      <td>14.225926</td>\n",
       "      <td>-2.289964</td>\n",
       "      <td>0.198510</td>\n",
       "      <td>41.311582</td>\n",
       "    </tr>\n",
       "    <tr>\n",
       "      <th>...</th>\n",
       "      <td>...</td>\n",
       "      <td>...</td>\n",
       "      <td>...</td>\n",
       "      <td>...</td>\n",
       "      <td>...</td>\n",
       "      <td>...</td>\n",
       "      <td>...</td>\n",
       "      <td>...</td>\n",
       "    </tr>\n",
       "    <tr>\n",
       "      <th>1750113</th>\n",
       "      <td>AARAATG</td>\n",
       "      <td>0.000000</td>\n",
       "      <td>NaN</td>\n",
       "      <td>NaN</td>\n",
       "      <td>0.000000</td>\n",
       "      <td>NaN</td>\n",
       "      <td>NaN</td>\n",
       "      <td>0.000000</td>\n",
       "    </tr>\n",
       "    <tr>\n",
       "      <th>1750114</th>\n",
       "      <td>GVPGYAW</td>\n",
       "      <td>0.000000</td>\n",
       "      <td>NaN</td>\n",
       "      <td>NaN</td>\n",
       "      <td>0.000000</td>\n",
       "      <td>NaN</td>\n",
       "      <td>NaN</td>\n",
       "      <td>0.000000</td>\n",
       "    </tr>\n",
       "    <tr>\n",
       "      <th>1750115</th>\n",
       "      <td>GNYLHAL</td>\n",
       "      <td>0.000000</td>\n",
       "      <td>NaN</td>\n",
       "      <td>NaN</td>\n",
       "      <td>0.000000</td>\n",
       "      <td>NaN</td>\n",
       "      <td>NaN</td>\n",
       "      <td>0.000000</td>\n",
       "    </tr>\n",
       "    <tr>\n",
       "      <th>1750116</th>\n",
       "      <td>REPSPSR</td>\n",
       "      <td>0.000000</td>\n",
       "      <td>NaN</td>\n",
       "      <td>NaN</td>\n",
       "      <td>0.000000</td>\n",
       "      <td>NaN</td>\n",
       "      <td>NaN</td>\n",
       "      <td>0.000000</td>\n",
       "    </tr>\n",
       "    <tr>\n",
       "      <th>1750117</th>\n",
       "      <td>VATALRP</td>\n",
       "      <td>0.000000</td>\n",
       "      <td>NaN</td>\n",
       "      <td>NaN</td>\n",
       "      <td>0.000000</td>\n",
       "      <td>NaN</td>\n",
       "      <td>NaN</td>\n",
       "      <td>0.000000</td>\n",
       "    </tr>\n",
       "  </tbody>\n",
       "</table>\n",
       "<p>1750118 rows × 8 columns</p>\n",
       "</div>"
      ],
      "text/plain": [
       "        AA_sequence  starter_virus_mean_RPM  LY6A_log2enr  LY6A_cv_RPM  \\\n",
       "0           NAVSRAG              333.473218     -3.201301     0.405151   \n",
       "1           VRPNGSG              328.441120     -3.052515     0.254412   \n",
       "2           GTRPGLL              239.470574     -4.047358     0.655096   \n",
       "3           FGGSRTP              215.893749     -2.866125     0.392306   \n",
       "4           LDKRNLV              202.031793     -3.827988     0.322309   \n",
       "...             ...                     ...           ...          ...   \n",
       "1750113     AARAATG                0.000000           NaN          NaN   \n",
       "1750114     GVPGYAW                0.000000           NaN          NaN   \n",
       "1750115     GNYLHAL                0.000000           NaN          NaN   \n",
       "1750116     REPSPSR                0.000000           NaN          NaN   \n",
       "1750117     VATALRP                0.000000           NaN          NaN   \n",
       "\n",
       "         LY6A_mean_RPM  LY6C1_log2enr  LY6C1_cv_RPM  LY6C1_mean_RPM  \n",
       "0            36.255449      -1.724217      0.103689      100.929909  \n",
       "1            39.587581      -1.046010      0.142009      159.065919  \n",
       "2            14.483582      -3.680601      0.484687       18.675866  \n",
       "3            29.610816      -1.367466      0.287778       83.674266  \n",
       "4            14.225926      -2.289964      0.198510       41.311582  \n",
       "...                ...            ...           ...             ...  \n",
       "1750113       0.000000            NaN           NaN        0.000000  \n",
       "1750114       0.000000            NaN           NaN        0.000000  \n",
       "1750115       0.000000            NaN           NaN        0.000000  \n",
       "1750116       0.000000            NaN           NaN        0.000000  \n",
       "1750117       0.000000            NaN           NaN        0.000000  \n",
       "\n",
       "[1750118 rows x 8 columns]"
      ]
     },
     "execution_count": 4,
     "metadata": {},
     "output_type": "execute_result"
    }
   ],
   "source": [
    "df_all = pd.read_csv('../data/pulldown_assay_SVAE_data.csv')\n",
    "df_all"
   ]
  },
  {
   "cell_type": "code",
   "execution_count": 5,
   "metadata": {},
   "outputs": [
    {
     "data": {
      "text/html": [
       "<div>\n",
       "<style scoped>\n",
       "    .dataframe tbody tr th:only-of-type {\n",
       "        vertical-align: middle;\n",
       "    }\n",
       "\n",
       "    .dataframe tbody tr th {\n",
       "        vertical-align: top;\n",
       "    }\n",
       "\n",
       "    .dataframe thead th {\n",
       "        text-align: right;\n",
       "    }\n",
       "</style>\n",
       "<table border=\"1\" class=\"dataframe\">\n",
       "  <thead>\n",
       "    <tr style=\"text-align: right;\">\n",
       "      <th></th>\n",
       "      <th>AA_sequence</th>\n",
       "      <th>starter_virus_mean_RPM</th>\n",
       "      <th>LY6C1_log2enr</th>\n",
       "      <th>LY6C1_cv_RPM</th>\n",
       "      <th>LY6C1_mean_RPM</th>\n",
       "    </tr>\n",
       "  </thead>\n",
       "  <tbody>\n",
       "    <tr>\n",
       "      <th>0</th>\n",
       "      <td>NAVSRAG</td>\n",
       "      <td>333.473218</td>\n",
       "      <td>-1.724217</td>\n",
       "      <td>0.103689</td>\n",
       "      <td>100.929909</td>\n",
       "    </tr>\n",
       "    <tr>\n",
       "      <th>1</th>\n",
       "      <td>VRPNGSG</td>\n",
       "      <td>328.441120</td>\n",
       "      <td>-1.046010</td>\n",
       "      <td>0.142009</td>\n",
       "      <td>159.065919</td>\n",
       "    </tr>\n",
       "    <tr>\n",
       "      <th>2</th>\n",
       "      <td>GTRPGLL</td>\n",
       "      <td>239.470574</td>\n",
       "      <td>-3.680601</td>\n",
       "      <td>0.484687</td>\n",
       "      <td>18.675866</td>\n",
       "    </tr>\n",
       "    <tr>\n",
       "      <th>3</th>\n",
       "      <td>FGGSRTP</td>\n",
       "      <td>215.893749</td>\n",
       "      <td>-1.367466</td>\n",
       "      <td>0.287778</td>\n",
       "      <td>83.674266</td>\n",
       "    </tr>\n",
       "    <tr>\n",
       "      <th>4</th>\n",
       "      <td>LDKRNLV</td>\n",
       "      <td>202.031793</td>\n",
       "      <td>-2.289964</td>\n",
       "      <td>0.198510</td>\n",
       "      <td>41.311582</td>\n",
       "    </tr>\n",
       "    <tr>\n",
       "      <th>...</th>\n",
       "      <td>...</td>\n",
       "      <td>...</td>\n",
       "      <td>...</td>\n",
       "      <td>...</td>\n",
       "      <td>...</td>\n",
       "    </tr>\n",
       "    <tr>\n",
       "      <th>1750113</th>\n",
       "      <td>AARAATG</td>\n",
       "      <td>0.000000</td>\n",
       "      <td>NaN</td>\n",
       "      <td>NaN</td>\n",
       "      <td>0.000000</td>\n",
       "    </tr>\n",
       "    <tr>\n",
       "      <th>1750114</th>\n",
       "      <td>GVPGYAW</td>\n",
       "      <td>0.000000</td>\n",
       "      <td>NaN</td>\n",
       "      <td>NaN</td>\n",
       "      <td>0.000000</td>\n",
       "    </tr>\n",
       "    <tr>\n",
       "      <th>1750115</th>\n",
       "      <td>GNYLHAL</td>\n",
       "      <td>0.000000</td>\n",
       "      <td>NaN</td>\n",
       "      <td>NaN</td>\n",
       "      <td>0.000000</td>\n",
       "    </tr>\n",
       "    <tr>\n",
       "      <th>1750116</th>\n",
       "      <td>REPSPSR</td>\n",
       "      <td>0.000000</td>\n",
       "      <td>NaN</td>\n",
       "      <td>NaN</td>\n",
       "      <td>0.000000</td>\n",
       "    </tr>\n",
       "    <tr>\n",
       "      <th>1750117</th>\n",
       "      <td>VATALRP</td>\n",
       "      <td>0.000000</td>\n",
       "      <td>NaN</td>\n",
       "      <td>NaN</td>\n",
       "      <td>0.000000</td>\n",
       "    </tr>\n",
       "  </tbody>\n",
       "</table>\n",
       "<p>1750118 rows × 5 columns</p>\n",
       "</div>"
      ],
      "text/plain": [
       "        AA_sequence  starter_virus_mean_RPM  LY6C1_log2enr  LY6C1_cv_RPM  \\\n",
       "0           NAVSRAG              333.473218      -1.724217      0.103689   \n",
       "1           VRPNGSG              328.441120      -1.046010      0.142009   \n",
       "2           GTRPGLL              239.470574      -3.680601      0.484687   \n",
       "3           FGGSRTP              215.893749      -1.367466      0.287778   \n",
       "4           LDKRNLV              202.031793      -2.289964      0.198510   \n",
       "...             ...                     ...            ...           ...   \n",
       "1750113     AARAATG                0.000000            NaN           NaN   \n",
       "1750114     GVPGYAW                0.000000            NaN           NaN   \n",
       "1750115     GNYLHAL                0.000000            NaN           NaN   \n",
       "1750116     REPSPSR                0.000000            NaN           NaN   \n",
       "1750117     VATALRP                0.000000            NaN           NaN   \n",
       "\n",
       "         LY6C1_mean_RPM  \n",
       "0            100.929909  \n",
       "1            159.065919  \n",
       "2             18.675866  \n",
       "3             83.674266  \n",
       "4             41.311582  \n",
       "...                 ...  \n",
       "1750113        0.000000  \n",
       "1750114        0.000000  \n",
       "1750115        0.000000  \n",
       "1750116        0.000000  \n",
       "1750117        0.000000  \n",
       "\n",
       "[1750118 rows x 5 columns]"
      ]
     },
     "execution_count": 5,
     "metadata": {},
     "output_type": "execute_result"
    }
   ],
   "source": [
    "# For this example, we'll look only at LY6C1 (analysis for LY6A is analogous)\n",
    "df = df_all[['AA_sequence', 'starter_virus_mean_RPM', 'LY6C1_log2enr', 'LY6C1_cv_RPM', 'LY6C1_mean_RPM']]\n",
    "df"
   ]
  },
  {
   "cell_type": "markdown",
   "metadata": {},
   "source": [
    "### Drop variants with 0 starter and assay mean RPM\n"
   ]
  },
  {
   "cell_type": "code",
   "execution_count": 6,
   "metadata": {},
   "outputs": [
    {
     "name": "stderr",
     "output_type": "stream",
     "text": [
      "/var/folders/h3/zgsh7pcs2jg1t0bvb6ddrhw80000gq/T/ipykernel_23573/3574525862.py:1: UserWarning: Boolean Series key will be reindexed to match DataFrame index.\n",
      "  df = df[df['starter_virus_mean_RPM'] > 0][df['LY6C1_mean_RPM'] > 0].reset_index(drop=True)\n"
     ]
    },
    {
     "data": {
      "text/html": [
       "<div>\n",
       "<style scoped>\n",
       "    .dataframe tbody tr th:only-of-type {\n",
       "        vertical-align: middle;\n",
       "    }\n",
       "\n",
       "    .dataframe tbody tr th {\n",
       "        vertical-align: top;\n",
       "    }\n",
       "\n",
       "    .dataframe thead th {\n",
       "        text-align: right;\n",
       "    }\n",
       "</style>\n",
       "<table border=\"1\" class=\"dataframe\">\n",
       "  <thead>\n",
       "    <tr style=\"text-align: right;\">\n",
       "      <th></th>\n",
       "      <th>AA_sequence</th>\n",
       "      <th>starter_virus_mean_RPM</th>\n",
       "      <th>LY6C1_log2enr</th>\n",
       "      <th>LY6C1_cv_RPM</th>\n",
       "      <th>LY6C1_mean_RPM</th>\n",
       "    </tr>\n",
       "  </thead>\n",
       "  <tbody>\n",
       "    <tr>\n",
       "      <th>0</th>\n",
       "      <td>NAVSRAG</td>\n",
       "      <td>333.473218</td>\n",
       "      <td>-1.724217</td>\n",
       "      <td>0.103689</td>\n",
       "      <td>100.929909</td>\n",
       "    </tr>\n",
       "    <tr>\n",
       "      <th>1</th>\n",
       "      <td>VRPNGSG</td>\n",
       "      <td>328.441120</td>\n",
       "      <td>-1.046010</td>\n",
       "      <td>0.142009</td>\n",
       "      <td>159.065919</td>\n",
       "    </tr>\n",
       "    <tr>\n",
       "      <th>2</th>\n",
       "      <td>GTRPGLL</td>\n",
       "      <td>239.470574</td>\n",
       "      <td>-3.680601</td>\n",
       "      <td>0.484687</td>\n",
       "      <td>18.675866</td>\n",
       "    </tr>\n",
       "    <tr>\n",
       "      <th>3</th>\n",
       "      <td>FGGSRTP</td>\n",
       "      <td>215.893749</td>\n",
       "      <td>-1.367466</td>\n",
       "      <td>0.287778</td>\n",
       "      <td>83.674266</td>\n",
       "    </tr>\n",
       "    <tr>\n",
       "      <th>4</th>\n",
       "      <td>LDKRNLV</td>\n",
       "      <td>202.031793</td>\n",
       "      <td>-2.289964</td>\n",
       "      <td>0.198510</td>\n",
       "      <td>41.311582</td>\n",
       "    </tr>\n",
       "    <tr>\n",
       "      <th>...</th>\n",
       "      <td>...</td>\n",
       "      <td>...</td>\n",
       "      <td>...</td>\n",
       "      <td>...</td>\n",
       "      <td>...</td>\n",
       "    </tr>\n",
       "    <tr>\n",
       "      <th>322965</th>\n",
       "      <td>DKNSQAC</td>\n",
       "      <td>0.042499</td>\n",
       "      <td>3.354674</td>\n",
       "      <td>1.732051</td>\n",
       "      <td>0.434743</td>\n",
       "    </tr>\n",
       "    <tr>\n",
       "      <th>322966</th>\n",
       "      <td>DKKASPW</td>\n",
       "      <td>0.042499</td>\n",
       "      <td>2.354674</td>\n",
       "      <td>1.732051</td>\n",
       "      <td>0.217372</td>\n",
       "    </tr>\n",
       "    <tr>\n",
       "      <th>322967</th>\n",
       "      <td>EFDHKSK</td>\n",
       "      <td>0.042499</td>\n",
       "      <td>2.354674</td>\n",
       "      <td>1.732051</td>\n",
       "      <td>0.217372</td>\n",
       "    </tr>\n",
       "    <tr>\n",
       "      <th>322968</th>\n",
       "      <td>EFASRYS</td>\n",
       "      <td>0.042499</td>\n",
       "      <td>2.191695</td>\n",
       "      <td>1.732051</td>\n",
       "      <td>0.194152</td>\n",
       "    </tr>\n",
       "    <tr>\n",
       "      <th>322969</th>\n",
       "      <td>EFDLRLS</td>\n",
       "      <td>0.042499</td>\n",
       "      <td>6.549037</td>\n",
       "      <td>0.263608</td>\n",
       "      <td>3.979528</td>\n",
       "    </tr>\n",
       "  </tbody>\n",
       "</table>\n",
       "<p>322970 rows × 5 columns</p>\n",
       "</div>"
      ],
      "text/plain": [
       "       AA_sequence  starter_virus_mean_RPM  LY6C1_log2enr  LY6C1_cv_RPM  \\\n",
       "0          NAVSRAG              333.473218      -1.724217      0.103689   \n",
       "1          VRPNGSG              328.441120      -1.046010      0.142009   \n",
       "2          GTRPGLL              239.470574      -3.680601      0.484687   \n",
       "3          FGGSRTP              215.893749      -1.367466      0.287778   \n",
       "4          LDKRNLV              202.031793      -2.289964      0.198510   \n",
       "...            ...                     ...            ...           ...   \n",
       "322965     DKNSQAC                0.042499       3.354674      1.732051   \n",
       "322966     DKKASPW                0.042499       2.354674      1.732051   \n",
       "322967     EFDHKSK                0.042499       2.354674      1.732051   \n",
       "322968     EFASRYS                0.042499       2.191695      1.732051   \n",
       "322969     EFDLRLS                0.042499       6.549037      0.263608   \n",
       "\n",
       "        LY6C1_mean_RPM  \n",
       "0           100.929909  \n",
       "1           159.065919  \n",
       "2            18.675866  \n",
       "3            83.674266  \n",
       "4            41.311582  \n",
       "...                ...  \n",
       "322965        0.434743  \n",
       "322966        0.217372  \n",
       "322967        0.217372  \n",
       "322968        0.194152  \n",
       "322969        3.979528  \n",
       "\n",
       "[322970 rows x 5 columns]"
      ]
     },
     "execution_count": 6,
     "metadata": {},
     "output_type": "execute_result"
    }
   ],
   "source": [
    "df = df[df['starter_virus_mean_RPM'] > 0][df['LY6C1_mean_RPM'] > 0].reset_index(drop=True)\n",
    "df"
   ]
  },
  {
   "cell_type": "markdown",
   "metadata": {},
   "source": [
    "### Prep data and make Tensorflow-compatible data batches\n",
    "\n",
    "`prep_data()` will one-hot encode the `AA_sequence` column and split the data into\n",
    "training and test sets. The training split will be split\n",
    "futher into training and validation batches with `make_tf_batches()`.\n"
   ]
  },
  {
   "cell_type": "code",
   "execution_count": 7,
   "metadata": {},
   "outputs": [
    {
     "data": {
      "text/html": [
       "<div>\n",
       "<style scoped>\n",
       "    .dataframe tbody tr th:only-of-type {\n",
       "        vertical-align: middle;\n",
       "    }\n",
       "\n",
       "    .dataframe tbody tr th {\n",
       "        vertical-align: top;\n",
       "    }\n",
       "\n",
       "    .dataframe thead th {\n",
       "        text-align: right;\n",
       "    }\n",
       "</style>\n",
       "<table border=\"1\" class=\"dataframe\">\n",
       "  <thead>\n",
       "    <tr style=\"text-align: right;\">\n",
       "      <th></th>\n",
       "      <th>AA_sequence</th>\n",
       "      <th>x0</th>\n",
       "      <th>x1</th>\n",
       "      <th>x2</th>\n",
       "      <th>x3</th>\n",
       "      <th>x4</th>\n",
       "      <th>x5</th>\n",
       "      <th>x6</th>\n",
       "      <th>x7</th>\n",
       "      <th>x8</th>\n",
       "      <th>...</th>\n",
       "      <th>x132</th>\n",
       "      <th>x133</th>\n",
       "      <th>x134</th>\n",
       "      <th>x135</th>\n",
       "      <th>x136</th>\n",
       "      <th>x137</th>\n",
       "      <th>x138</th>\n",
       "      <th>x139</th>\n",
       "      <th>Y--LY6C1_log2enr</th>\n",
       "      <th>CV--LY6C1_cv_RPM</th>\n",
       "    </tr>\n",
       "  </thead>\n",
       "  <tbody>\n",
       "    <tr>\n",
       "      <th>0</th>\n",
       "      <td>NAVSRAG</td>\n",
       "      <td>0</td>\n",
       "      <td>0</td>\n",
       "      <td>0</td>\n",
       "      <td>0</td>\n",
       "      <td>0</td>\n",
       "      <td>0</td>\n",
       "      <td>0</td>\n",
       "      <td>0</td>\n",
       "      <td>0</td>\n",
       "      <td>...</td>\n",
       "      <td>0</td>\n",
       "      <td>0</td>\n",
       "      <td>0</td>\n",
       "      <td>0</td>\n",
       "      <td>0</td>\n",
       "      <td>0</td>\n",
       "      <td>0</td>\n",
       "      <td>0</td>\n",
       "      <td>-1.724217</td>\n",
       "      <td>0.103689</td>\n",
       "    </tr>\n",
       "    <tr>\n",
       "      <th>1</th>\n",
       "      <td>VRPNGSG</td>\n",
       "      <td>0</td>\n",
       "      <td>0</td>\n",
       "      <td>0</td>\n",
       "      <td>0</td>\n",
       "      <td>0</td>\n",
       "      <td>0</td>\n",
       "      <td>0</td>\n",
       "      <td>0</td>\n",
       "      <td>0</td>\n",
       "      <td>...</td>\n",
       "      <td>0</td>\n",
       "      <td>0</td>\n",
       "      <td>0</td>\n",
       "      <td>0</td>\n",
       "      <td>0</td>\n",
       "      <td>0</td>\n",
       "      <td>0</td>\n",
       "      <td>0</td>\n",
       "      <td>-1.046010</td>\n",
       "      <td>0.142009</td>\n",
       "    </tr>\n",
       "    <tr>\n",
       "      <th>2</th>\n",
       "      <td>GTRPGLL</td>\n",
       "      <td>0</td>\n",
       "      <td>0</td>\n",
       "      <td>0</td>\n",
       "      <td>0</td>\n",
       "      <td>0</td>\n",
       "      <td>1</td>\n",
       "      <td>0</td>\n",
       "      <td>0</td>\n",
       "      <td>0</td>\n",
       "      <td>...</td>\n",
       "      <td>0</td>\n",
       "      <td>0</td>\n",
       "      <td>0</td>\n",
       "      <td>0</td>\n",
       "      <td>0</td>\n",
       "      <td>0</td>\n",
       "      <td>0</td>\n",
       "      <td>0</td>\n",
       "      <td>-3.680601</td>\n",
       "      <td>0.484687</td>\n",
       "    </tr>\n",
       "    <tr>\n",
       "      <th>3</th>\n",
       "      <td>FGGSRTP</td>\n",
       "      <td>0</td>\n",
       "      <td>0</td>\n",
       "      <td>0</td>\n",
       "      <td>0</td>\n",
       "      <td>1</td>\n",
       "      <td>0</td>\n",
       "      <td>0</td>\n",
       "      <td>0</td>\n",
       "      <td>0</td>\n",
       "      <td>...</td>\n",
       "      <td>1</td>\n",
       "      <td>0</td>\n",
       "      <td>0</td>\n",
       "      <td>0</td>\n",
       "      <td>0</td>\n",
       "      <td>0</td>\n",
       "      <td>0</td>\n",
       "      <td>0</td>\n",
       "      <td>-1.367466</td>\n",
       "      <td>0.287778</td>\n",
       "    </tr>\n",
       "    <tr>\n",
       "      <th>4</th>\n",
       "      <td>SRPGYPT</td>\n",
       "      <td>0</td>\n",
       "      <td>0</td>\n",
       "      <td>0</td>\n",
       "      <td>0</td>\n",
       "      <td>0</td>\n",
       "      <td>0</td>\n",
       "      <td>0</td>\n",
       "      <td>0</td>\n",
       "      <td>0</td>\n",
       "      <td>...</td>\n",
       "      <td>0</td>\n",
       "      <td>0</td>\n",
       "      <td>0</td>\n",
       "      <td>0</td>\n",
       "      <td>1</td>\n",
       "      <td>0</td>\n",
       "      <td>0</td>\n",
       "      <td>0</td>\n",
       "      <td>-1.918459</td>\n",
       "      <td>0.018527</td>\n",
       "    </tr>\n",
       "    <tr>\n",
       "      <th>...</th>\n",
       "      <td>...</td>\n",
       "      <td>...</td>\n",
       "      <td>...</td>\n",
       "      <td>...</td>\n",
       "      <td>...</td>\n",
       "      <td>...</td>\n",
       "      <td>...</td>\n",
       "      <td>...</td>\n",
       "      <td>...</td>\n",
       "      <td>...</td>\n",
       "      <td>...</td>\n",
       "      <td>...</td>\n",
       "      <td>...</td>\n",
       "      <td>...</td>\n",
       "      <td>...</td>\n",
       "      <td>...</td>\n",
       "      <td>...</td>\n",
       "      <td>...</td>\n",
       "      <td>...</td>\n",
       "      <td>...</td>\n",
       "      <td>...</td>\n",
       "    </tr>\n",
       "    <tr>\n",
       "      <th>290668</th>\n",
       "      <td>EFGALRG</td>\n",
       "      <td>0</td>\n",
       "      <td>0</td>\n",
       "      <td>0</td>\n",
       "      <td>1</td>\n",
       "      <td>0</td>\n",
       "      <td>0</td>\n",
       "      <td>0</td>\n",
       "      <td>0</td>\n",
       "      <td>0</td>\n",
       "      <td>...</td>\n",
       "      <td>0</td>\n",
       "      <td>0</td>\n",
       "      <td>0</td>\n",
       "      <td>0</td>\n",
       "      <td>0</td>\n",
       "      <td>0</td>\n",
       "      <td>0</td>\n",
       "      <td>0</td>\n",
       "      <td>2.885911</td>\n",
       "      <td>1.732051</td>\n",
       "    </tr>\n",
       "    <tr>\n",
       "      <th>290669</th>\n",
       "      <td>DKKASPW</td>\n",
       "      <td>0</td>\n",
       "      <td>0</td>\n",
       "      <td>1</td>\n",
       "      <td>0</td>\n",
       "      <td>0</td>\n",
       "      <td>0</td>\n",
       "      <td>0</td>\n",
       "      <td>0</td>\n",
       "      <td>0</td>\n",
       "      <td>...</td>\n",
       "      <td>0</td>\n",
       "      <td>0</td>\n",
       "      <td>0</td>\n",
       "      <td>0</td>\n",
       "      <td>0</td>\n",
       "      <td>0</td>\n",
       "      <td>1</td>\n",
       "      <td>0</td>\n",
       "      <td>2.354674</td>\n",
       "      <td>1.732051</td>\n",
       "    </tr>\n",
       "    <tr>\n",
       "      <th>290670</th>\n",
       "      <td>EFDHKSK</td>\n",
       "      <td>0</td>\n",
       "      <td>0</td>\n",
       "      <td>0</td>\n",
       "      <td>1</td>\n",
       "      <td>0</td>\n",
       "      <td>0</td>\n",
       "      <td>0</td>\n",
       "      <td>0</td>\n",
       "      <td>0</td>\n",
       "      <td>...</td>\n",
       "      <td>0</td>\n",
       "      <td>0</td>\n",
       "      <td>0</td>\n",
       "      <td>0</td>\n",
       "      <td>0</td>\n",
       "      <td>0</td>\n",
       "      <td>0</td>\n",
       "      <td>0</td>\n",
       "      <td>2.354674</td>\n",
       "      <td>1.732051</td>\n",
       "    </tr>\n",
       "    <tr>\n",
       "      <th>290671</th>\n",
       "      <td>EFASRYS</td>\n",
       "      <td>0</td>\n",
       "      <td>0</td>\n",
       "      <td>0</td>\n",
       "      <td>1</td>\n",
       "      <td>0</td>\n",
       "      <td>0</td>\n",
       "      <td>0</td>\n",
       "      <td>0</td>\n",
       "      <td>0</td>\n",
       "      <td>...</td>\n",
       "      <td>0</td>\n",
       "      <td>0</td>\n",
       "      <td>0</td>\n",
       "      <td>1</td>\n",
       "      <td>0</td>\n",
       "      <td>0</td>\n",
       "      <td>0</td>\n",
       "      <td>0</td>\n",
       "      <td>2.191695</td>\n",
       "      <td>1.732051</td>\n",
       "    </tr>\n",
       "    <tr>\n",
       "      <th>290672</th>\n",
       "      <td>EFDLRLS</td>\n",
       "      <td>0</td>\n",
       "      <td>0</td>\n",
       "      <td>0</td>\n",
       "      <td>1</td>\n",
       "      <td>0</td>\n",
       "      <td>0</td>\n",
       "      <td>0</td>\n",
       "      <td>0</td>\n",
       "      <td>0</td>\n",
       "      <td>...</td>\n",
       "      <td>0</td>\n",
       "      <td>0</td>\n",
       "      <td>0</td>\n",
       "      <td>1</td>\n",
       "      <td>0</td>\n",
       "      <td>0</td>\n",
       "      <td>0</td>\n",
       "      <td>0</td>\n",
       "      <td>6.549037</td>\n",
       "      <td>0.263608</td>\n",
       "    </tr>\n",
       "  </tbody>\n",
       "</table>\n",
       "<p>290673 rows × 143 columns</p>\n",
       "</div>"
      ],
      "text/plain": [
       "       AA_sequence  x0  x1  x2  x3  x4  x5  x6  x7  x8  ...  x132  x133  x134  \\\n",
       "0          NAVSRAG   0   0   0   0   0   0   0   0   0  ...     0     0     0   \n",
       "1          VRPNGSG   0   0   0   0   0   0   0   0   0  ...     0     0     0   \n",
       "2          GTRPGLL   0   0   0   0   0   1   0   0   0  ...     0     0     0   \n",
       "3          FGGSRTP   0   0   0   0   1   0   0   0   0  ...     1     0     0   \n",
       "4          SRPGYPT   0   0   0   0   0   0   0   0   0  ...     0     0     0   \n",
       "...            ...  ..  ..  ..  ..  ..  ..  ..  ..  ..  ...   ...   ...   ...   \n",
       "290668     EFGALRG   0   0   0   1   0   0   0   0   0  ...     0     0     0   \n",
       "290669     DKKASPW   0   0   1   0   0   0   0   0   0  ...     0     0     0   \n",
       "290670     EFDHKSK   0   0   0   1   0   0   0   0   0  ...     0     0     0   \n",
       "290671     EFASRYS   0   0   0   1   0   0   0   0   0  ...     0     0     0   \n",
       "290672     EFDLRLS   0   0   0   1   0   0   0   0   0  ...     0     0     0   \n",
       "\n",
       "        x135  x136  x137  x138  x139  Y--LY6C1_log2enr  CV--LY6C1_cv_RPM  \n",
       "0          0     0     0     0     0         -1.724217          0.103689  \n",
       "1          0     0     0     0     0         -1.046010          0.142009  \n",
       "2          0     0     0     0     0         -3.680601          0.484687  \n",
       "3          0     0     0     0     0         -1.367466          0.287778  \n",
       "4          0     1     0     0     0         -1.918459          0.018527  \n",
       "...      ...   ...   ...   ...   ...               ...               ...  \n",
       "290668     0     0     0     0     0          2.885911          1.732051  \n",
       "290669     0     0     0     1     0          2.354674          1.732051  \n",
       "290670     0     0     0     0     0          2.354674          1.732051  \n",
       "290671     1     0     0     0     0          2.191695          1.732051  \n",
       "290672     1     0     0     0     0          6.549037          0.263608  \n",
       "\n",
       "[290673 rows x 143 columns]"
      ]
     },
     "execution_count": 7,
     "metadata": {},
     "output_type": "execute_result"
    }
   ],
   "source": [
    "(data_list, train_df, test_df, prepped_df) = prep_data(df, target_assay_col=\"LY6C1_log2enr\", cv_col=\"LY6C1_cv_RPM\", RPM_col=\"LY6C1_mean_RPM\")\n",
    "train_df"
   ]
  },
  {
   "cell_type": "code",
   "execution_count": 8,
   "metadata": {},
   "outputs": [],
   "source": [
    "# Pickle dataframes\n",
    "dfs_dict = {'data_list': data_list, 'train_df': train_df, 'test_df': test_df, 'prepped_df': prepped_df}\n",
    "Path('saved_vals/').mkdir(parents=True, exist_ok=True)\n",
    "with open('saved_vals/dfs_dict.pickle', 'wb') as f:\n",
    "    pickle.dump(dfs_dict, f)"
   ]
  },
  {
   "cell_type": "code",
   "execution_count": 9,
   "metadata": {},
   "outputs": [],
   "source": [
    "# Load dataframes \n",
    "with open('saved_vals/dfs_dict.pickle', 'rb') as f:\n",
    "    dfs_dict = pickle.load(f)\n",
    "\n",
    "data_list = dfs_dict['data_list']\n",
    "train_df = dfs_dict['train_df']\n",
    "test_df = dfs_dict['test_df']\n",
    "prepped_df = dfs_dict['prepped_df']"
   ]
  },
  {
   "cell_type": "markdown",
   "metadata": {},
   "source": [
    "Now we split `train_df` into TensorFlow-compatible training and validation batches using\n",
    "`make_tf_batches()`. `unbatched_data` is a tuple of Numpy arrays corresponding to the X, Y\n",
    "and CV (if using) values across both the training and validation batches.\n"
   ]
  },
  {
   "cell_type": "code",
   "execution_count": 10,
   "metadata": {},
   "outputs": [
    {
     "name": "stderr",
     "output_type": "stream",
     "text": [
      "2022-10-31 13:08:44.648847: I tensorflow/core/platform/cpu_feature_guard.cc:142] This TensorFlow binary is optimized with oneAPI Deep Neural Network Library (oneDNN) to use the following CPU instructions in performance-critical operations:  AVX2 FMA\n",
      "To enable them in other operations, rebuild TensorFlow with the appropriate compiler flags.\n"
     ]
    }
   ],
   "source": [
    "X, Y, CV = data_list\n",
    "train_batches, val_batches, unbatched_data = make_tf_batches(X, Y, CV=CV)"
   ]
  },
  {
   "cell_type": "code",
   "execution_count": 11,
   "metadata": {},
   "outputs": [
    {
     "name": "stderr",
     "output_type": "stream",
     "text": [
      "2022-10-31 13:08:44.988251: I tensorflow/compiler/mlir/mlir_graph_optimization_pass.cc:176] None of the MLIR Optimization Passes are enabled (registered 2)\n",
      "2022-10-31 13:08:55.006219: I tensorflow/core/kernels/data/shuffle_dataset_op.cc:177] Filling up shuffle buffer (this may take a while): 128664 of 322970\n",
      "2022-10-31 13:09:05.004650: I tensorflow/core/kernels/data/shuffle_dataset_op.cc:177] Filling up shuffle buffer (this may take a while): 163690 of 322970\n",
      "2022-10-31 13:09:15.006984: I tensorflow/core/kernels/data/shuffle_dataset_op.cc:177] Filling up shuffle buffer (this may take a while): 171388 of 322970\n",
      "2022-10-31 13:09:25.005101: I tensorflow/core/kernels/data/shuffle_dataset_op.cc:177] Filling up shuffle buffer (this may take a while): 184793 of 322970\n",
      "2022-10-31 13:09:35.005173: I tensorflow/core/kernels/data/shuffle_dataset_op.cc:177] Filling up shuffle buffer (this may take a while): 197585 of 322970\n",
      "2022-10-31 13:09:45.005253: I tensorflow/core/kernels/data/shuffle_dataset_op.cc:177] Filling up shuffle buffer (this may take a while): 211729 of 322970\n",
      "2022-10-31 13:09:55.006158: I tensorflow/core/kernels/data/shuffle_dataset_op.cc:177] Filling up shuffle buffer (this may take a while): 214855 of 322970\n",
      "2022-10-31 13:10:05.006314: I tensorflow/core/kernels/data/shuffle_dataset_op.cc:177] Filling up shuffle buffer (this may take a while): 219536 of 322970\n",
      "2022-10-31 13:10:15.004461: I tensorflow/core/kernels/data/shuffle_dataset_op.cc:177] Filling up shuffle buffer (this may take a while): 224870 of 322970\n",
      "2022-10-31 13:10:25.004824: I tensorflow/core/kernels/data/shuffle_dataset_op.cc:177] Filling up shuffle buffer (this may take a while): 230272 of 322970\n",
      "2022-10-31 13:10:35.007428: I tensorflow/core/kernels/data/shuffle_dataset_op.cc:177] Filling up shuffle buffer (this may take a while): 237164 of 322970\n",
      "2022-10-31 13:10:45.004841: I tensorflow/core/kernels/data/shuffle_dataset_op.cc:177] Filling up shuffle buffer (this may take a while): 249973 of 322970\n",
      "2022-10-31 13:10:55.006207: I tensorflow/core/kernels/data/shuffle_dataset_op.cc:177] Filling up shuffle buffer (this may take a while): 262007 of 322970\n",
      "2022-10-31 13:11:05.006208: I tensorflow/core/kernels/data/shuffle_dataset_op.cc:177] Filling up shuffle buffer (this may take a while): 268003 of 322970\n",
      "2022-10-31 13:11:15.007767: I tensorflow/core/kernels/data/shuffle_dataset_op.cc:177] Filling up shuffle buffer (this may take a while): 271650 of 322970\n",
      "2022-10-31 13:11:25.005555: I tensorflow/core/kernels/data/shuffle_dataset_op.cc:177] Filling up shuffle buffer (this may take a while): 274942 of 322970\n",
      "2022-10-31 13:11:35.006650: I tensorflow/core/kernels/data/shuffle_dataset_op.cc:177] Filling up shuffle buffer (this may take a while): 287133 of 322970\n",
      "2022-10-31 13:11:45.004577: I tensorflow/core/kernels/data/shuffle_dataset_op.cc:177] Filling up shuffle buffer (this may take a while): 299454 of 322970\n",
      "2022-10-31 13:11:55.007432: I tensorflow/core/kernels/data/shuffle_dataset_op.cc:177] Filling up shuffle buffer (this may take a while): 303539 of 322970\n",
      "2022-10-31 13:12:05.004674: I tensorflow/core/kernels/data/shuffle_dataset_op.cc:177] Filling up shuffle buffer (this may take a while): 306260 of 322970\n",
      "2022-10-31 13:12:15.006110: I tensorflow/core/kernels/data/shuffle_dataset_op.cc:177] Filling up shuffle buffer (this may take a while): 310821 of 322970\n",
      "2022-10-31 13:12:25.005868: I tensorflow/core/kernels/data/shuffle_dataset_op.cc:177] Filling up shuffle buffer (this may take a while): 313301 of 322970\n",
      "2022-10-31 13:12:35.007547: I tensorflow/core/kernels/data/shuffle_dataset_op.cc:177] Filling up shuffle buffer (this may take a while): 317121 of 322970\n",
      "2022-10-31 13:12:45.007693: I tensorflow/core/kernels/data/shuffle_dataset_op.cc:177] Filling up shuffle buffer (this may take a while): 319823 of 322970\n",
      "2022-10-31 13:12:55.006060: I tensorflow/core/kernels/data/shuffle_dataset_op.cc:177] Filling up shuffle buffer (this may take a while): 322669 of 322970\n",
      "2022-10-31 13:12:55.530527: I tensorflow/core/kernels/data/shuffle_dataset_op.cc:230] Shuffle buffer filled.\n",
      "2022-10-31 13:13:07.308220: I tensorflow/core/kernels/data/shuffle_dataset_op.cc:177] Filling up shuffle buffer (this may take a while): 98093 of 322970\n",
      "2022-10-31 13:13:17.306786: I tensorflow/core/kernels/data/shuffle_dataset_op.cc:177] Filling up shuffle buffer (this may take a while): 114509 of 322970\n",
      "2022-10-31 13:13:27.308790: I tensorflow/core/kernels/data/shuffle_dataset_op.cc:177] Filling up shuffle buffer (this may take a while): 129919 of 322970\n",
      "2022-10-31 13:13:37.306632: I tensorflow/core/kernels/data/shuffle_dataset_op.cc:177] Filling up shuffle buffer (this may take a while): 136392 of 322970\n",
      "2022-10-31 13:13:47.309633: I tensorflow/core/kernels/data/shuffle_dataset_op.cc:177] Filling up shuffle buffer (this may take a while): 146347 of 322970\n",
      "2022-10-31 13:13:57.306638: I tensorflow/core/kernels/data/shuffle_dataset_op.cc:177] Filling up shuffle buffer (this may take a while): 184181 of 322970\n",
      "2022-10-31 13:14:07.308861: I tensorflow/core/kernels/data/shuffle_dataset_op.cc:177] Filling up shuffle buffer (this may take a while): 189951 of 322970\n",
      "2022-10-31 13:14:17.308966: I tensorflow/core/kernels/data/shuffle_dataset_op.cc:177] Filling up shuffle buffer (this may take a while): 201174 of 322970\n",
      "2022-10-31 13:14:27.307411: I tensorflow/core/kernels/data/shuffle_dataset_op.cc:177] Filling up shuffle buffer (this may take a while): 216042 of 322970\n",
      "2022-10-31 13:14:37.310668: I tensorflow/core/kernels/data/shuffle_dataset_op.cc:177] Filling up shuffle buffer (this may take a while): 218949 of 322970\n",
      "2022-10-31 13:14:47.309329: I tensorflow/core/kernels/data/shuffle_dataset_op.cc:177] Filling up shuffle buffer (this may take a while): 228242 of 322970\n",
      "2022-10-31 13:14:57.306708: I tensorflow/core/kernels/data/shuffle_dataset_op.cc:177] Filling up shuffle buffer (this may take a while): 231236 of 322970\n",
      "2022-10-31 13:15:07.308332: I tensorflow/core/kernels/data/shuffle_dataset_op.cc:177] Filling up shuffle buffer (this may take a while): 237405 of 322970\n",
      "2022-10-31 13:15:17.309269: I tensorflow/core/kernels/data/shuffle_dataset_op.cc:177] Filling up shuffle buffer (this may take a while): 247927 of 322970\n",
      "2022-10-31 13:15:27.306717: I tensorflow/core/kernels/data/shuffle_dataset_op.cc:177] Filling up shuffle buffer (this may take a while): 254050 of 322970\n",
      "2022-10-31 13:15:37.307978: I tensorflow/core/kernels/data/shuffle_dataset_op.cc:177] Filling up shuffle buffer (this may take a while): 256617 of 322970\n",
      "2022-10-31 13:15:47.309650: I tensorflow/core/kernels/data/shuffle_dataset_op.cc:177] Filling up shuffle buffer (this may take a while): 262134 of 322970\n",
      "2022-10-31 13:15:57.311416: I tensorflow/core/kernels/data/shuffle_dataset_op.cc:177] Filling up shuffle buffer (this may take a while): 264672 of 322970\n",
      "2022-10-31 13:16:07.307701: I tensorflow/core/kernels/data/shuffle_dataset_op.cc:177] Filling up shuffle buffer (this may take a while): 270099 of 322970\n",
      "2022-10-31 13:16:17.308657: I tensorflow/core/kernels/data/shuffle_dataset_op.cc:177] Filling up shuffle buffer (this may take a while): 272614 of 322970\n",
      "2022-10-31 13:16:27.309926: I tensorflow/core/kernels/data/shuffle_dataset_op.cc:177] Filling up shuffle buffer (this may take a while): 277957 of 322970\n",
      "2022-10-31 13:16:37.308633: I tensorflow/core/kernels/data/shuffle_dataset_op.cc:177] Filling up shuffle buffer (this may take a while): 285008 of 322970\n",
      "2022-10-31 13:16:47.307418: I tensorflow/core/kernels/data/shuffle_dataset_op.cc:177] Filling up shuffle buffer (this may take a while): 289940 of 322970\n",
      "2022-10-31 13:16:57.309009: I tensorflow/core/kernels/data/shuffle_dataset_op.cc:177] Filling up shuffle buffer (this may take a while): 293723 of 322970\n",
      "2022-10-31 13:17:07.306762: I tensorflow/core/kernels/data/shuffle_dataset_op.cc:177] Filling up shuffle buffer (this may take a while): 298869 of 322970\n",
      "2022-10-31 13:17:17.309168: I tensorflow/core/kernels/data/shuffle_dataset_op.cc:177] Filling up shuffle buffer (this may take a while): 302546 of 322970\n",
      "2022-10-31 13:17:27.308262: I tensorflow/core/kernels/data/shuffle_dataset_op.cc:177] Filling up shuffle buffer (this may take a while): 313592 of 322970\n",
      "2022-10-31 13:17:37.308771: I tensorflow/core/kernels/data/shuffle_dataset_op.cc:177] Filling up shuffle buffer (this may take a while): 318108 of 322970\n",
      "2022-10-31 13:17:47.307540: I tensorflow/core/kernels/data/shuffle_dataset_op.cc:177] Filling up shuffle buffer (this may take a while): 320861 of 322970\n",
      "2022-10-31 13:17:47.396740: I tensorflow/core/kernels/data/shuffle_dataset_op.cc:230] Shuffle buffer filled.\n"
     ]
    }
   ],
   "source": [
    "# Save batches to disk\n",
    "tf.data.experimental.save(train_batches, '../saved_vals/train_batches')\n",
    "tf.data.experimental.save(val_batches, '../saved_vals/val_batches')"
   ]
  },
  {
   "cell_type": "code",
   "execution_count": 12,
   "metadata": {},
   "outputs": [
    {
     "name": "stderr",
     "output_type": "stream",
     "text": [
      "2022-10-31 13:17:48.593931: E tensorflow/core/framework/dataset.cc:825] Unimplemented: Cannot merge options for dataset of type LoadDataset, because the dataset does not implement `InputDatasets`.\n",
      "2022-10-31 13:17:48.605622: E tensorflow/core/framework/dataset.cc:825] Unimplemented: Cannot merge options for dataset of type LoadDataset, because the dataset does not implement `InputDatasets`.\n"
     ]
    }
   ],
   "source": [
    "# Load Tensorflow batches\n",
    "train_batches = tf.data.experimental.load('../saved_vals/train_batches')\n",
    "val_batches = tf.data.experimental.load('../saved_vals/val_batches')"
   ]
  },
  {
   "cell_type": "markdown",
   "metadata": {},
   "source": [
    "## SVAE training\n",
    "\n",
    "Default parameterization (used in paper):\n",
    "\n",
    "- `input_dim = 140`\n",
    "- `latent_dim = 2`\n",
    "- `enc_hidden_dims = [100,40]`\n",
    "- `dec_hidden_dims = [40,100]`\n",
    "- `reg_hidden_dims = [100,10]`\n"
   ]
  },
  {
   "cell_type": "code",
   "execution_count": 13,
   "metadata": {},
   "outputs": [],
   "source": [
    "# SVAE parameters (same as default)\n",
    "input_dim = 140\n",
    "latent_dim = 2\n",
    "enc_hidden_dims = [100,40]\n",
    "dec_hidden_dims = [40,100]\n",
    "reg_hidden_dims = [100,10]\n",
    "\n",
    "# training parameters \n",
    "assay = 'LY6C1'\n",
    "loss_weights = [1.0,0.5,0.1] # [reconstruction, KL, regression]\n",
    "\n",
    "initial_learning_rate = 1e-3\n",
    "optimizer = tf.keras.optimizers.Adam(initial_learning_rate)"
   ]
  },
  {
   "cell_type": "code",
   "execution_count": 14,
   "metadata": {},
   "outputs": [
    {
     "name": "stdout",
     "output_type": "stream",
     "text": [
      "Model: \"svae\"\n",
      "__________________________________________________________________________________________________\n",
      "Layer (type)                    Output Shape         Param #     Connected to                     \n",
      "==================================================================================================\n",
      "encoder_input (InputLayer)      [(None, 140)]        0                                            \n",
      "__________________________________________________________________________________________________\n",
      "encoder (Functional)            [(None, 2), (None, 2 18304       encoder_input[0][0]              \n",
      "                                                                 encoder_input[0][0]              \n",
      "__________________________________________________________________________________________________\n",
      "tf.concat_1 (TFOpLambda)        (None, 142)          0           encoder[1][0]                    \n",
      "                                                                 encoder_input[0][0]              \n",
      "__________________________________________________________________________________________________\n",
      "decoder (Functional)            (None, 140)          18360       encoder[0][2]                    \n",
      "__________________________________________________________________________________________________\n",
      "regressor (Functional)          (None, 1)            16421       tf.concat_1[0][0]                \n",
      "==================================================================================================\n",
      "Total params: 53,085\n",
      "Trainable params: 53,085\n",
      "Non-trainable params: 0\n",
      "__________________________________________________________________________________________________\n"
     ]
    }
   ],
   "source": [
    "# Initialize SVAE model (with default parameterizations)\n",
    "model = SVAE(input_dim=140, latent_dim=2, enc_hidden_dims=[100,40], dec_hidden_dims=[40,100], reg_hidden_dims=[100,10], name='svae')\n",
    "model.summary()"
   ]
  },
  {
   "cell_type": "markdown",
   "metadata": {},
   "source": [
    "The `train()` function returns the trained `model` and `preds_df`, a DataFrame of\n",
    "regressor predictions on the X values in `unbatched_data`, along with their latent space\n",
    "projections and their true Y values.\n",
    "\n",
    "`train()` saves the trained model, as well as a log of the training and validation loss\n",
    "values per epoch and `preds_df`, to disk. These saves will be made to an optional\n",
    "parameter `model_outdir` - if not specified, `train()` will make a new,\n",
    "informatively-named directory to write to (path is returned)."
   ]
  },
  {
   "cell_type": "code",
   "execution_count": null,
   "metadata": {},
   "outputs": [
    {
     "name": "stderr",
     "output_type": "stream",
     "text": [
      "2022-10-31 13:17:48.953761: E tensorflow/core/framework/dataset.cc:825] Unimplemented: Cannot merge options for dataset of type LoadDataset, because the dataset does not implement `InputDatasets`.\n"
     ]
    },
    {
     "name": "stdout",
     "output_type": "stream",
     "text": [
      "Logging following metrics: ['train_model_loss', 'train_reconstruction_loss', 'train_kl_loss', 'train_regression_loss', 'val_model_loss', 'val_reconstruction_loss', 'val_kl_loss', 'val_regression_loss']\n",
      "\n",
      "\n",
      "----- Beginning training. -----\n",
      "\n",
      "epoch 1\n"
     ]
    },
    {
     "name": "stderr",
     "output_type": "stream",
     "text": [
      "2022-10-31 13:17:50.027416: E tensorflow/core/framework/dataset.cc:825] Unimplemented: Cannot merge options for dataset of type LoadDataset, because the dataset does not implement `InputDatasets`.\n"
     ]
    },
    {
     "name": "stdout",
     "output_type": "stream",
     "text": [
      "258336/258376 [============================>.] - ETA: 0s - train_model_loss: 19.4607 - train_reconstruction_loss: 19.3015 - train_kl_loss: 0.0090 - train_regression_loss: 3.1061"
     ]
    },
    {
     "name": "stderr",
     "output_type": "stream",
     "text": [
      "2022-10-31 13:25:23.050776: E tensorflow/core/framework/dataset.cc:825] Unimplemented: Cannot merge options for dataset of type LoadDataset, because the dataset does not implement `InputDatasets`.\n"
     ]
    },
    {
     "name": "stdout",
     "output_type": "stream",
     "text": [
      "258376/258376 [==============================] - 492s 2ms/step - train_model_loss: 19.6384 - train_reconstruction_loss: 19.4501 - train_kl_loss: 0.0067 - train_regression_loss: 3.9703 - val_model_loss: 19.6068 - val_reconstruction_loss: 19.4322 - val_kl_loss: 0.0054 - val_regression_loss: 3.6961\n",
      "\n",
      "epoch 2\n",
      "    64/258376 [..............................] - ETA: 12:27 - train_model_loss: 18.8833 - train_reconstruction_loss: 18.7369 - train_kl_loss: 0.0040 - train_regression_loss: 3.1175"
     ]
    },
    {
     "name": "stderr",
     "output_type": "stream",
     "text": [
      "2022-10-31 13:26:01.557737: E tensorflow/core/framework/dataset.cc:825] Unimplemented: Cannot merge options for dataset of type LoadDataset, because the dataset does not implement `InputDatasets`.\n"
     ]
    },
    {
     "name": "stdout",
     "output_type": "stream",
     "text": [
      "258368/258376 [============================>.] - ETA: 0s - train_model_loss: 19.0667 - train_reconstruction_loss: 18.8945 - train_kl_loss: 0.0034 - train_regression_loss: 4.2339"
     ]
    },
    {
     "name": "stderr",
     "output_type": "stream",
     "text": [
      "2022-10-31 13:33:12.514140: E tensorflow/core/framework/dataset.cc:825] Unimplemented: Cannot merge options for dataset of type LoadDataset, because the dataset does not implement `InputDatasets`.\n"
     ]
    },
    {
     "name": "stdout",
     "output_type": "stream",
     "text": [
      "258376/258376 [==============================] - 473s 2ms/step - train_model_loss: 19.6006 - train_reconstruction_loss: 19.4287 - train_kl_loss: 0.0053 - train_regression_loss: 3.6367 - val_model_loss: 19.5955 - val_reconstruction_loss: 19.4288 - val_kl_loss: 0.0048 - val_regression_loss: 3.5310\n",
      "\n",
      "epoch 3\n",
      "    64/258376 [..............................] - ETA: 12:02 - train_model_loss: 18.8503 - train_reconstruction_loss: 18.7262 - train_kl_loss: 0.0034 - train_regression_loss: 2.6431"
     ]
    },
    {
     "name": "stderr",
     "output_type": "stream",
     "text": [
      "2022-10-31 13:33:54.218948: E tensorflow/core/framework/dataset.cc:825] Unimplemented: Cannot merge options for dataset of type LoadDataset, because the dataset does not implement `InputDatasets`.\n"
     ]
    },
    {
     "name": "stdout",
     "output_type": "stream",
     "text": [
      "258368/258376 [============================>.] - ETA: 0s - train_model_loss: 19.0946 - train_reconstruction_loss: 18.9188 - train_kl_loss: 0.0023 - train_regression_loss: 4.3367"
     ]
    },
    {
     "name": "stderr",
     "output_type": "stream",
     "text": [
      "2022-10-31 13:41:23.508975: E tensorflow/core/framework/dataset.cc:825] Unimplemented: Cannot merge options for dataset of type LoadDataset, because the dataset does not implement `InputDatasets`.\n"
     ]
    },
    {
     "name": "stdout",
     "output_type": "stream",
     "text": [
      "258376/258376 [==============================] - 491s 2ms/step - train_model_loss: 19.5925 - train_reconstruction_loss: 19.4269 - train_kl_loss: 0.0054 - train_regression_loss: 3.5022 - val_model_loss: 19.5895 - val_reconstruction_loss: 19.4289 - val_kl_loss: 0.0048 - val_regression_loss: 3.4003\n",
      "\n",
      "epoch 4\n",
      "    64/258376 [..............................] - ETA: 12:09 - train_model_loss: 18.8521 - train_reconstruction_loss: 18.7280 - train_kl_loss: 0.0030 - train_regression_loss: 2.6470"
     ]
    },
    {
     "name": "stderr",
     "output_type": "stream",
     "text": [
      "2022-10-31 13:42:05.567377: E tensorflow/core/framework/dataset.cc:825] Unimplemented: Cannot merge options for dataset of type LoadDataset, because the dataset does not implement `InputDatasets`.\n"
     ]
    },
    {
     "name": "stdout",
     "output_type": "stream",
     "text": [
      "258368/258376 [============================>.] - ETA: 0s - train_model_loss: 19.0988 - train_reconstruction_loss: 18.9193 - train_kl_loss: 0.0020 - train_regression_loss: 4.4334"
     ]
    },
    {
     "name": "stderr",
     "output_type": "stream",
     "text": [
      "2022-10-31 13:49:30.470089: E tensorflow/core/framework/dataset.cc:825] Unimplemented: Cannot merge options for dataset of type LoadDataset, because the dataset does not implement `InputDatasets`.\n"
     ]
    },
    {
     "name": "stdout",
     "output_type": "stream",
     "text": [
      "258376/258376 [==============================] - 486s 2ms/step - train_model_loss: 19.5866 - train_reconstruction_loss: 19.4255 - train_kl_loss: 0.0056 - train_regression_loss: 3.4011 - val_model_loss: 19.5822 - val_reconstruction_loss: 19.4262 - val_kl_loss: 0.0045 - val_regression_loss: 3.3049\n",
      "\n",
      "epoch 5\n",
      "    64/258376 [..............................] - ETA: 11:46 - train_model_loss: 18.8621 - train_reconstruction_loss: 18.7485 - train_kl_loss: 0.0026 - train_regression_loss: 2.4252"
     ]
    },
    {
     "name": "stderr",
     "output_type": "stream",
     "text": [
      "2022-10-31 13:50:12.051662: E tensorflow/core/framework/dataset.cc:825] Unimplemented: Cannot merge options for dataset of type LoadDataset, because the dataset does not implement `InputDatasets`.\n"
     ]
    },
    {
     "name": "stdout",
     "output_type": "stream",
     "text": [
      "258336/258376 [============================>.] - ETA: 0s - train_model_loss: 19.4491 - train_reconstruction_loss: 19.3102 - train_kl_loss: 0.0046 - train_regression_loss: 2.7443"
     ]
    },
    {
     "name": "stderr",
     "output_type": "stream",
     "text": [
      "2022-10-31 13:57:42.579309: E tensorflow/core/framework/dataset.cc:825] Unimplemented: Cannot merge options for dataset of type LoadDataset, because the dataset does not implement `InputDatasets`.\n"
     ]
    },
    {
     "name": "stdout",
     "output_type": "stream",
     "text": [
      "258376/258376 [==============================] - 493s 2ms/step - train_model_loss: 19.5821 - train_reconstruction_loss: 19.4250 - train_kl_loss: 0.0055 - train_regression_loss: 3.3203 - val_model_loss: 19.5798 - val_reconstruction_loss: 19.4267 - val_kl_loss: 0.0046 - val_regression_loss: 3.2421\n",
      "\n",
      "epoch 6\n",
      "    64/258376 [..............................] - ETA: 11:15 - train_model_loss: 18.8634 - train_reconstruction_loss: 18.7535 - train_kl_loss: 0.0026 - train_regression_loss: 2.3449"
     ]
    },
    {
     "name": "stderr",
     "output_type": "stream",
     "text": [
      "2022-10-31 13:58:24.566895: E tensorflow/core/framework/dataset.cc:825] Unimplemented: Cannot merge options for dataset of type LoadDataset, because the dataset does not implement `InputDatasets`.\n"
     ]
    },
    {
     "name": "stdout",
     "output_type": "stream",
     "text": [
      "258368/258376 [============================>.] - ETA: 0s - train_model_loss: 19.1193 - train_reconstruction_loss: 18.9289 - train_kl_loss: 0.0022 - train_regression_loss: 4.6993"
     ]
    },
    {
     "name": "stderr",
     "output_type": "stream",
     "text": [
      "2022-10-31 14:05:46.953038: E tensorflow/core/framework/dataset.cc:825] Unimplemented: Cannot merge options for dataset of type LoadDataset, because the dataset does not implement `InputDatasets`.\n"
     ]
    },
    {
     "name": "stdout",
     "output_type": "stream",
     "text": [
      "258376/258376 [==============================] - 484s 2ms/step - train_model_loss: 19.5783 - train_reconstruction_loss: 19.4244 - train_kl_loss: 0.0052 - train_regression_loss: 3.2550 - val_model_loss: 19.5786 - val_reconstruction_loss: 19.4274 - val_kl_loss: 0.0048 - val_regression_loss: 3.1986\n",
      "\n",
      "epoch 7\n",
      "    64/258376 [..............................] - ETA: 13:12 - train_model_loss: 18.8344 - train_reconstruction_loss: 18.7259 - train_kl_loss: 0.0029 - train_regression_loss: 2.3127"
     ]
    },
    {
     "name": "stderr",
     "output_type": "stream",
     "text": [
      "2022-10-31 14:06:28.779694: E tensorflow/core/framework/dataset.cc:825] Unimplemented: Cannot merge options for dataset of type LoadDataset, because the dataset does not implement `InputDatasets`.\n"
     ]
    },
    {
     "name": "stdout",
     "output_type": "stream",
     "text": [
      "258336/258376 [============================>.] - ETA: 0s - train_model_loss: 19.4444 - train_reconstruction_loss: 19.3122 - train_kl_loss: 0.0048 - train_regression_loss: 2.6058"
     ]
    },
    {
     "name": "stderr",
     "output_type": "stream",
     "text": [
      "2022-10-31 14:13:47.601820: E tensorflow/core/framework/dataset.cc:825] Unimplemented: Cannot merge options for dataset of type LoadDataset, because the dataset does not implement `InputDatasets`.\n"
     ]
    },
    {
     "name": "stdout",
     "output_type": "stream",
     "text": [
      "258376/258376 [==============================] - 481s 2ms/step - train_model_loss: 19.5752 - train_reconstruction_loss: 19.4240 - train_kl_loss: 0.0051 - train_regression_loss: 3.1988 - val_model_loss: 19.5771 - val_reconstruction_loss: 19.4282 - val_kl_loss: 0.0047 - val_regression_loss: 3.1528\n",
      "\n",
      "epoch 8\n",
      "    64/258376 [..............................] - ETA: 11:29 - train_model_loss: 18.8571 - train_reconstruction_loss: 18.7485 - train_kl_loss: 0.0028 - train_regression_loss: 2.3174"
     ]
    },
    {
     "name": "stderr",
     "output_type": "stream",
     "text": [
      "2022-10-31 14:14:29.334122: E tensorflow/core/framework/dataset.cc:825] Unimplemented: Cannot merge options for dataset of type LoadDataset, because the dataset does not implement `InputDatasets`.\n"
     ]
    },
    {
     "name": "stdout",
     "output_type": "stream",
     "text": [
      "258336/258376 [============================>.] - ETA: 0s - train_model_loss: 19.4248 - train_reconstruction_loss: 19.2936 - train_kl_loss: 0.0047 - train_regression_loss: 2.5872"
     ]
    },
    {
     "name": "stderr",
     "output_type": "stream",
     "text": [
      "2022-10-31 14:22:03.463912: E tensorflow/core/framework/dataset.cc:825] Unimplemented: Cannot merge options for dataset of type LoadDataset, because the dataset does not implement `InputDatasets`.\n"
     ]
    },
    {
     "name": "stdout",
     "output_type": "stream",
     "text": [
      "258376/258376 [==============================] - 494s 2ms/step - train_model_loss: 19.5725 - train_reconstruction_loss: 19.4237 - train_kl_loss: 0.0050 - train_regression_loss: 3.1475 - val_model_loss: 19.5735 - val_reconstruction_loss: 19.4268 - val_kl_loss: 0.0045 - val_regression_loss: 3.1067\n",
      "\n",
      "epoch 9\n",
      "    64/258376 [..............................] - ETA: 13:38 - train_model_loss: 18.8596 - train_reconstruction_loss: 18.7496 - train_kl_loss: 0.0025 - train_regression_loss: 2.3479"
     ]
    },
    {
     "name": "stderr",
     "output_type": "stream",
     "text": [
      "2022-10-31 14:22:43.121066: E tensorflow/core/framework/dataset.cc:825] Unimplemented: Cannot merge options for dataset of type LoadDataset, because the dataset does not implement `InputDatasets`.\n"
     ]
    },
    {
     "name": "stdout",
     "output_type": "stream",
     "text": [
      "258336/258376 [============================>.] - ETA: 0s - train_model_loss: 19.4236 - train_reconstruction_loss: 19.2935 - train_kl_loss: 0.0044 - train_regression_loss: 2.5692"
     ]
    },
    {
     "name": "stderr",
     "output_type": "stream",
     "text": [
      "2022-10-31 14:29:46.077559: E tensorflow/core/framework/dataset.cc:825] Unimplemented: Cannot merge options for dataset of type LoadDataset, because the dataset does not implement `InputDatasets`.\n"
     ]
    },
    {
     "name": "stdout",
     "output_type": "stream",
     "text": [
      "258376/258376 [==============================] - 463s 2ms/step - train_model_loss: 19.5699 - train_reconstruction_loss: 19.4233 - train_kl_loss: 0.0049 - train_regression_loss: 3.1012 - val_model_loss: 19.5728 - val_reconstruction_loss: 19.4277 - val_kl_loss: 0.0043 - val_regression_loss: 3.0728\n",
      "\n",
      "epoch 10\n",
      "     0/258376 [..............................] - ETA: 0s - train_model_loss: 19.7859 - train_reconstruction_loss: 19.5044 - train_kl_loss: 0.0028 - train_regression_loss: 5.7607"
     ]
    },
    {
     "name": "stderr",
     "output_type": "stream",
     "text": [
      "2022-10-31 14:30:25.720897: E tensorflow/core/framework/dataset.cc:825] Unimplemented: Cannot merge options for dataset of type LoadDataset, because the dataset does not implement `InputDatasets`.\n"
     ]
    },
    {
     "name": "stdout",
     "output_type": "stream",
     "text": [
      "258336/258376 [============================>.] - ETA: 0s - train_model_loss: 19.4484 - train_reconstruction_loss: 19.3204 - train_kl_loss: 0.0042 - train_regression_loss: 2.5288"
     ]
    },
    {
     "name": "stderr",
     "output_type": "stream",
     "text": [
      "2022-10-31 14:37:37.546538: E tensorflow/core/framework/dataset.cc:825] Unimplemented: Cannot merge options for dataset of type LoadDataset, because the dataset does not implement `InputDatasets`.\n"
     ]
    },
    {
     "name": "stdout",
     "output_type": "stream",
     "text": [
      "258376/258376 [==============================] - 471s 2ms/step - train_model_loss: 19.5678 - train_reconstruction_loss: 19.4233 - train_kl_loss: 0.0048 - train_regression_loss: 3.0590 - val_model_loss: 19.5725 - val_reconstruction_loss: 19.4292 - val_kl_loss: 0.0043 - val_regression_loss: 3.0352\n",
      "\n",
      "epoch 11\n",
      "    64/258376 [..............................] - ETA: 11:42 - train_model_loss: 18.8512 - train_reconstruction_loss: 18.7372 - train_kl_loss: 0.0018 - train_regression_loss: 2.4417"
     ]
    },
    {
     "name": "stderr",
     "output_type": "stream",
     "text": [
      "2022-10-31 14:38:16.358053: E tensorflow/core/framework/dataset.cc:825] Unimplemented: Cannot merge options for dataset of type LoadDataset, because the dataset does not implement `InputDatasets`.\n"
     ]
    },
    {
     "name": "stdout",
     "output_type": "stream",
     "text": [
      "258368/258376 [============================>.] - ETA: 0s - train_model_loss: 19.1225 - train_reconstruction_loss: 18.9232 - train_kl_loss: 0.0019 - train_regression_loss: 4.9245"
     ]
    },
    {
     "name": "stderr",
     "output_type": "stream",
     "text": [
      "2022-10-31 14:45:18.693175: E tensorflow/core/framework/dataset.cc:825] Unimplemented: Cannot merge options for dataset of type LoadDataset, because the dataset does not implement `InputDatasets`.\n"
     ]
    },
    {
     "name": "stdout",
     "output_type": "stream",
     "text": [
      "258376/258376 [==============================] - 457s 2ms/step - train_model_loss: 19.5657 - train_reconstruction_loss: 19.4230 - train_kl_loss: 0.0048 - train_regression_loss: 3.0196 - val_model_loss: 19.5697 - val_reconstruction_loss: 19.4277 - val_kl_loss: 0.0042 - val_regression_loss: 3.0097\n",
      "\n",
      "epoch 12\n",
      "    64/258376 [..............................] - ETA: 11:54 - train_model_loss: 18.8563 - train_reconstruction_loss: 18.7406 - train_kl_loss: 0.0017 - train_regression_loss: 2.4826"
     ]
    },
    {
     "name": "stderr",
     "output_type": "stream",
     "text": [
      "2022-10-31 14:45:53.387679: E tensorflow/core/framework/dataset.cc:825] Unimplemented: Cannot merge options for dataset of type LoadDataset, because the dataset does not implement `InputDatasets`.\n"
     ]
    },
    {
     "name": "stdout",
     "output_type": "stream",
     "text": [
      "258336/258376 [============================>.] - ETA: 0s - train_model_loss: 19.4107 - train_reconstruction_loss: 19.2867 - train_kl_loss: 0.0042 - train_regression_loss: 2.4478"
     ]
    },
    {
     "name": "stderr",
     "output_type": "stream",
     "text": [
      "2022-10-31 14:52:23.969731: E tensorflow/core/framework/dataset.cc:825] Unimplemented: Cannot merge options for dataset of type LoadDataset, because the dataset does not implement `InputDatasets`.\n"
     ]
    },
    {
     "name": "stdout",
     "output_type": "stream",
     "text": [
      "258376/258376 [==============================] - 425s 2ms/step - train_model_loss: 19.5638 - train_reconstruction_loss: 19.4228 - train_kl_loss: 0.0048 - train_regression_loss: 2.9816 - val_model_loss: 19.5682 - val_reconstruction_loss: 19.4272 - val_kl_loss: 0.0041 - val_regression_loss: 2.9869\n",
      "\n",
      "epoch 13\n",
      "    64/258376 [..............................] - ETA: 11:31 - train_model_loss: 18.8520 - train_reconstruction_loss: 18.7352 - train_kl_loss: 0.0015 - train_regression_loss: 2.5078"
     ]
    },
    {
     "name": "stderr",
     "output_type": "stream",
     "text": [
      "2022-10-31 14:52:57.974498: E tensorflow/core/framework/dataset.cc:825] Unimplemented: Cannot merge options for dataset of type LoadDataset, because the dataset does not implement `InputDatasets`.\n"
     ]
    },
    {
     "name": "stdout",
     "output_type": "stream",
     "text": [
      "258368/258376 [============================>.] - ETA: 0s - train_model_loss: 19.1230 - train_reconstruction_loss: 18.9233 - train_kl_loss: 0.0020 - train_regression_loss: 4.9342"
     ]
    },
    {
     "name": "stderr",
     "output_type": "stream",
     "text": [
      "2022-10-31 14:59:24.636074: E tensorflow/core/framework/dataset.cc:825] Unimplemented: Cannot merge options for dataset of type LoadDataset, because the dataset does not implement `InputDatasets`.\n"
     ]
    },
    {
     "name": "stdout",
     "output_type": "stream",
     "text": [
      "258376/258376 [==============================] - 422s 2ms/step - train_model_loss: 19.5620 - train_reconstruction_loss: 19.4227 - train_kl_loss: 0.0048 - train_regression_loss: 2.9451 - val_model_loss: 19.5669 - val_reconstruction_loss: 19.4267 - val_kl_loss: 0.0044 - val_regression_loss: 2.9706\n",
      "\n",
      "epoch 14\n",
      "    96/258376 [..............................] - ETA: 8:44 - train_model_loss: 19.3760 - train_reconstruction_loss: 19.2287 - train_kl_loss: 0.0032 - train_regression_loss: 3.1093"
     ]
    },
    {
     "name": "stderr",
     "output_type": "stream",
     "text": [
      "2022-10-31 15:00:00.192532: E tensorflow/core/framework/dataset.cc:825] Unimplemented: Cannot merge options for dataset of type LoadDataset, because the dataset does not implement `InputDatasets`.\n"
     ]
    },
    {
     "name": "stdout",
     "output_type": "stream",
     "text": [
      "258368/258376 [============================>.] - ETA: 0s - train_model_loss: 19.1182 - train_reconstruction_loss: 18.9206 - train_kl_loss: 0.0016 - train_regression_loss: 4.8855"
     ]
    },
    {
     "name": "stderr",
     "output_type": "stream",
     "text": [
      "2022-10-31 15:06:38.782268: E tensorflow/core/framework/dataset.cc:825] Unimplemented: Cannot merge options for dataset of type LoadDataset, because the dataset does not implement `InputDatasets`.\n"
     ]
    },
    {
     "name": "stdout",
     "output_type": "stream",
     "text": [
      "258376/258376 [==============================] - 432s 2ms/step - train_model_loss: 19.5602 - train_reconstruction_loss: 19.4227 - train_kl_loss: 0.0048 - train_regression_loss: 2.9096 - val_model_loss: 19.5667 - val_reconstruction_loss: 19.4271 - val_kl_loss: 0.0046 - val_regression_loss: 2.9554\n",
      "\n",
      "epoch 15\n",
      "    32/258376 [..............................] - ETA: 22:02 - train_model_loss: 19.8441 - train_reconstruction_loss: 19.6635 - train_kl_loss: 0.0049 - train_regression_loss: 3.8395"
     ]
    },
    {
     "name": "stderr",
     "output_type": "stream",
     "text": [
      "2022-10-31 15:07:12.521295: E tensorflow/core/framework/dataset.cc:825] Unimplemented: Cannot merge options for dataset of type LoadDataset, because the dataset does not implement `InputDatasets`.\n"
     ]
    },
    {
     "name": "stdout",
     "output_type": "stream",
     "text": [
      "258368/258376 [============================>.] - ETA: 0s - train_model_loss: 19.1135 - train_reconstruction_loss: 18.9195 - train_kl_loss: 0.0014 - train_regression_loss: 4.8010"
     ]
    },
    {
     "name": "stderr",
     "output_type": "stream",
     "text": [
      "2022-10-31 15:14:15.854570: E tensorflow/core/framework/dataset.cc:825] Unimplemented: Cannot merge options for dataset of type LoadDataset, because the dataset does not implement `InputDatasets`.\n"
     ]
    },
    {
     "name": "stdout",
     "output_type": "stream",
     "text": [
      "258376/258376 [==============================] - 458s 2ms/step - train_model_loss: 19.5587 - train_reconstruction_loss: 19.4227 - train_kl_loss: 0.0049 - train_regression_loss: 2.8759 - val_model_loss: 19.5654 - val_reconstruction_loss: 19.4267 - val_kl_loss: 0.0048 - val_regression_loss: 2.9324\n",
      "\n",
      "epoch 16\n",
      "     0/258376 [..............................] - ETA: 0s - train_model_loss: 19.8019 - train_reconstruction_loss: 19.5359 - train_kl_loss: 0.0034 - train_regression_loss: 5.4364"
     ]
    },
    {
     "name": "stderr",
     "output_type": "stream",
     "text": [
      "2022-10-31 15:14:50.974476: E tensorflow/core/framework/dataset.cc:825] Unimplemented: Cannot merge options for dataset of type LoadDataset, because the dataset does not implement `InputDatasets`.\n"
     ]
    },
    {
     "name": "stdout",
     "output_type": "stream",
     "text": [
      "258368/258376 [============================>.] - ETA: 0s - train_model_loss: 19.1178 - train_reconstruction_loss: 18.9233 - train_kl_loss: 0.0014 - train_regression_loss: 4.8112"
     ]
    },
    {
     "name": "stderr",
     "output_type": "stream",
     "text": [
      "2022-10-31 15:21:32.997968: E tensorflow/core/framework/dataset.cc:825] Unimplemented: Cannot merge options for dataset of type LoadDataset, because the dataset does not implement `InputDatasets`.\n"
     ]
    },
    {
     "name": "stdout",
     "output_type": "stream",
     "text": [
      "258376/258376 [==============================] - 443s 2ms/step - train_model_loss: 19.5571 - train_reconstruction_loss: 19.4225 - train_kl_loss: 0.0050 - train_regression_loss: 2.8428 - val_model_loss: 19.5634 - val_reconstruction_loss: 19.4254 - val_kl_loss: 0.0049 - val_regression_loss: 2.9163\n",
      "\n",
      "epoch 17\n",
      "    64/258376 [..............................] - ETA: 12:06 - train_model_loss: 18.8663 - train_reconstruction_loss: 18.7435 - train_kl_loss: 0.0021 - train_regression_loss: 2.6304"
     ]
    },
    {
     "name": "stderr",
     "output_type": "stream",
     "text": [
      "2022-10-31 15:22:14.454512: E tensorflow/core/framework/dataset.cc:825] Unimplemented: Cannot merge options for dataset of type LoadDataset, because the dataset does not implement `InputDatasets`.\n"
     ]
    },
    {
     "name": "stdout",
     "output_type": "stream",
     "text": [
      "258336/258376 [============================>.] - ETA: 0s - train_model_loss: 19.4213 - train_reconstruction_loss: 19.3004 - train_kl_loss: 0.0039 - train_regression_loss: 2.3879"
     ]
    },
    {
     "name": "stderr",
     "output_type": "stream",
     "text": [
      "2022-10-31 15:29:48.441397: E tensorflow/core/framework/dataset.cc:825] Unimplemented: Cannot merge options for dataset of type LoadDataset, because the dataset does not implement `InputDatasets`.\n"
     ]
    },
    {
     "name": "stdout",
     "output_type": "stream",
     "text": [
      "258376/258376 [==============================] - 494s 2ms/step - train_model_loss: 19.5556 - train_reconstruction_loss: 19.4224 - train_kl_loss: 0.0052 - train_regression_loss: 2.8108 - val_model_loss: 19.5629 - val_reconstruction_loss: 19.4251 - val_kl_loss: 0.0049 - val_regression_loss: 2.9121\n",
      "\n",
      "epoch 18\n",
      "     0/258376 [..............................] - ETA: 0s - train_model_loss: 19.7794 - train_reconstruction_loss: 19.5146 - train_kl_loss: 0.0048 - train_regression_loss: 5.3983"
     ]
    },
    {
     "name": "stderr",
     "output_type": "stream",
     "text": [
      "2022-10-31 15:30:28.406725: E tensorflow/core/framework/dataset.cc:825] Unimplemented: Cannot merge options for dataset of type LoadDataset, because the dataset does not implement `InputDatasets`.\n"
     ]
    },
    {
     "name": "stdout",
     "output_type": "stream",
     "text": [
      "258336/258376 [============================>.] - ETA: 0s - train_model_loss: 19.4146 - train_reconstruction_loss: 19.2955 - train_kl_loss: 0.0039 - train_regression_loss: 2.3525"
     ]
    },
    {
     "name": "stderr",
     "output_type": "stream",
     "text": [
      "2022-10-31 15:38:14.121381: E tensorflow/core/framework/dataset.cc:825] Unimplemented: Cannot merge options for dataset of type LoadDataset, because the dataset does not implement `InputDatasets`.\n"
     ]
    },
    {
     "name": "stdout",
     "output_type": "stream",
     "text": [
      "258376/258376 [==============================] - 506s 2ms/step - train_model_loss: 19.5542 - train_reconstruction_loss: 19.4225 - train_kl_loss: 0.0053 - train_regression_loss: 2.7807 - val_model_loss: 19.5638 - val_reconstruction_loss: 19.4265 - val_kl_loss: 0.0048 - val_regression_loss: 2.9035\n",
      "\n",
      "epoch 19\n",
      "     0/258376 [..............................] - ETA: 0s - train_model_loss: 19.7824 - train_reconstruction_loss: 19.5194 - train_kl_loss: 0.0059 - train_regression_loss: 5.3491"
     ]
    },
    {
     "name": "stderr",
     "output_type": "stream",
     "text": [
      "2022-10-31 15:38:54.009942: E tensorflow/core/framework/dataset.cc:825] Unimplemented: Cannot merge options for dataset of type LoadDataset, because the dataset does not implement `InputDatasets`.\n"
     ]
    },
    {
     "name": "stdout",
     "output_type": "stream",
     "text": [
      "258368/258376 [============================>.] - ETA: 0s - train_model_loss: 19.1096 - train_reconstruction_loss: 18.9101 - train_kl_loss: 0.0016 - train_regression_loss: 4.9329"
     ]
    },
    {
     "name": "stderr",
     "output_type": "stream",
     "text": [
      "2022-10-31 15:46:50.079188: E tensorflow/core/framework/dataset.cc:825] Unimplemented: Cannot merge options for dataset of type LoadDataset, because the dataset does not implement `InputDatasets`.\n"
     ]
    },
    {
     "name": "stdout",
     "output_type": "stream",
     "text": [
      "258376/258376 [==============================] - 520s 2ms/step - train_model_loss: 19.5528 - train_reconstruction_loss: 19.4224 - train_kl_loss: 0.0054 - train_regression_loss: 2.7529 - val_model_loss: 19.5627 - val_reconstruction_loss: 19.4254 - val_kl_loss: 0.0050 - val_regression_loss: 2.9003\n",
      "\n",
      "epoch 20\n",
      "     0/258376 [..............................] - ETA: 0s - train_model_loss: 19.7719 - train_reconstruction_loss: 19.5083 - train_kl_loss: 0.0066 - train_regression_loss: 5.3552"
     ]
    },
    {
     "name": "stderr",
     "output_type": "stream",
     "text": [
      "2022-10-31 15:47:34.504185: E tensorflow/core/framework/dataset.cc:825] Unimplemented: Cannot merge options for dataset of type LoadDataset, because the dataset does not implement `InputDatasets`.\n"
     ]
    },
    {
     "name": "stdout",
     "output_type": "stream",
     "text": [
      "258336/258376 [============================>.] - ETA: 0s - train_model_loss: 19.4195 - train_reconstruction_loss: 19.3011 - train_kl_loss: 0.0043 - train_regression_loss: 2.3331"
     ]
    },
    {
     "name": "stderr",
     "output_type": "stream",
     "text": [
      "2022-10-31 15:55:56.498716: E tensorflow/core/framework/dataset.cc:825] Unimplemented: Cannot merge options for dataset of type LoadDataset, because the dataset does not implement `InputDatasets`.\n"
     ]
    },
    {
     "name": "stdout",
     "output_type": "stream",
     "text": [
      "258376/258376 [==============================] - 542s 2ms/step - train_model_loss: 19.5514 - train_reconstruction_loss: 19.4222 - train_kl_loss: 0.0055 - train_regression_loss: 2.7261 - val_model_loss: 19.5633 - val_reconstruction_loss: 19.4261 - val_kl_loss: 0.0051 - val_regression_loss: 2.8994\n",
      "\n",
      "epoch 21\n",
      "    64/258376 [..............................] - ETA: 11:23 - train_model_loss: 18.8854 - train_reconstruction_loss: 18.7438 - train_kl_loss: 0.0021 - train_regression_loss: 3.0360"
     ]
    },
    {
     "name": "stderr",
     "output_type": "stream",
     "text": [
      "2022-10-31 15:56:36.539994: E tensorflow/core/framework/dataset.cc:825] Unimplemented: Cannot merge options for dataset of type LoadDataset, because the dataset does not implement `InputDatasets`.\n"
     ]
    },
    {
     "name": "stdout",
     "output_type": "stream",
     "text": [
      "258336/258376 [============================>.] - ETA: 0s - train_model_loss: 19.4055 - train_reconstruction_loss: 19.2876 - train_kl_loss: 0.0044 - train_regression_loss: 2.3249"
     ]
    },
    {
     "name": "stderr",
     "output_type": "stream",
     "text": [
      "2022-10-31 16:03:57.087689: E tensorflow/core/framework/dataset.cc:825] Unimplemented: Cannot merge options for dataset of type LoadDataset, because the dataset does not implement `InputDatasets`.\n"
     ]
    },
    {
     "name": "stdout",
     "output_type": "stream",
     "text": [
      "258376/258376 [==============================] - 479s 2ms/step - train_model_loss: 19.5505 - train_reconstruction_loss: 19.4223 - train_kl_loss: 0.0056 - train_regression_loss: 2.7021 - val_model_loss: 19.5623 - val_reconstruction_loss: 19.4253 - val_kl_loss: 0.0052 - val_regression_loss: 2.8913\n",
      "\n",
      "epoch 22\n",
      "     0/258376 [..............................] - ETA: 0s - train_model_loss: 19.7757 - train_reconstruction_loss: 19.5046 - train_kl_loss: 0.0071 - train_regression_loss: 5.5035"
     ]
    },
    {
     "name": "stderr",
     "output_type": "stream",
     "text": [
      "2022-10-31 16:04:35.112974: E tensorflow/core/framework/dataset.cc:825] Unimplemented: Cannot merge options for dataset of type LoadDataset, because the dataset does not implement `InputDatasets`.\n"
     ]
    },
    {
     "name": "stdout",
     "output_type": "stream",
     "text": [
      "258336/258376 [============================>.] - ETA: 0s - train_model_loss: 19.4047 - train_reconstruction_loss: 19.2894 - train_kl_loss: 0.0043 - train_regression_loss: 2.2721"
     ]
    },
    {
     "name": "stderr",
     "output_type": "stream",
     "text": [
      "2022-10-31 16:12:56.471697: E tensorflow/core/framework/dataset.cc:825] Unimplemented: Cannot merge options for dataset of type LoadDataset, because the dataset does not implement `InputDatasets`.\n"
     ]
    },
    {
     "name": "stdout",
     "output_type": "stream",
     "text": [
      "258376/258376 [==============================] - 542s 2ms/step - train_model_loss: 19.5493 - train_reconstruction_loss: 19.4221 - train_kl_loss: 0.0057 - train_regression_loss: 2.6795 - val_model_loss: 19.5621 - val_reconstruction_loss: 19.4256 - val_kl_loss: 0.0053 - val_regression_loss: 2.8816\n",
      "\n",
      "epoch 23\n",
      "    64/258376 [..............................] - ETA: 12:05 - train_model_loss: 18.8730 - train_reconstruction_loss: 18.7258 - train_kl_loss: 0.0022 - train_regression_loss: 3.1561"
     ]
    },
    {
     "name": "stderr",
     "output_type": "stream",
     "text": [
      "2022-10-31 16:13:37.414779: E tensorflow/core/framework/dataset.cc:825] Unimplemented: Cannot merge options for dataset of type LoadDataset, because the dataset does not implement `InputDatasets`.\n"
     ]
    },
    {
     "name": "stdout",
     "output_type": "stream",
     "text": [
      "258368/258376 [============================>.] - ETA: 0s - train_model_loss: 19.1002 - train_reconstruction_loss: 18.9075 - train_kl_loss: 0.0031 - train_regression_loss: 4.7454"
     ]
    },
    {
     "name": "stderr",
     "output_type": "stream",
     "text": [
      "2022-10-31 16:21:00.643565: E tensorflow/core/framework/dataset.cc:825] Unimplemented: Cannot merge options for dataset of type LoadDataset, because the dataset does not implement `InputDatasets`.\n"
     ]
    },
    {
     "name": "stdout",
     "output_type": "stream",
     "text": [
      "258376/258376 [==============================] - 483s 2ms/step - train_model_loss: 19.5483 - train_reconstruction_loss: 19.4220 - train_kl_loss: 0.0058 - train_regression_loss: 2.6585 - val_model_loss: 19.5621 - val_reconstruction_loss: 19.4263 - val_kl_loss: 0.0056 - val_regression_loss: 2.8646\n",
      "\n",
      "epoch 24\n",
      "    64/258376 [..............................] - ETA: 11:27 - train_model_loss: 18.9046 - train_reconstruction_loss: 18.7479 - train_kl_loss: 0.0025 - train_regression_loss: 3.3563"
     ]
    },
    {
     "name": "stderr",
     "output_type": "stream",
     "text": [
      "2022-10-31 16:21:40.719151: E tensorflow/core/framework/dataset.cc:825] Unimplemented: Cannot merge options for dataset of type LoadDataset, because the dataset does not implement `InputDatasets`.\n"
     ]
    },
    {
     "name": "stdout",
     "output_type": "stream",
     "text": [
      "258336/258376 [============================>.] - ETA: 0s - train_model_loss: 19.4078 - train_reconstruction_loss: 19.2983 - train_kl_loss: 0.0050 - train_regression_loss: 2.1489"
     ]
    },
    {
     "name": "stderr",
     "output_type": "stream",
     "text": [
      "2022-10-31 16:29:17.007268: E tensorflow/core/framework/dataset.cc:825] Unimplemented: Cannot merge options for dataset of type LoadDataset, because the dataset does not implement `InputDatasets`.\n"
     ]
    },
    {
     "name": "stdout",
     "output_type": "stream",
     "text": [
      "258376/258376 [==============================] - 494s 2ms/step - train_model_loss: 19.5475 - train_reconstruction_loss: 19.4220 - train_kl_loss: 0.0059 - train_regression_loss: 2.6390 - val_model_loss: 19.5603 - val_reconstruction_loss: 19.4252 - val_kl_loss: 0.0054 - val_regression_loss: 2.8503\n",
      "\n",
      "epoch 25\n",
      "     0/258376 [..............................] - ETA: 0s - train_model_loss: 19.7813 - train_reconstruction_loss: 19.5123 - train_kl_loss: 0.0068 - train_regression_loss: 5.4638"
     ]
    },
    {
     "name": "stderr",
     "output_type": "stream",
     "text": [
      "2022-10-31 16:29:54.956783: E tensorflow/core/framework/dataset.cc:825] Unimplemented: Cannot merge options for dataset of type LoadDataset, because the dataset does not implement `InputDatasets`.\n"
     ]
    },
    {
     "name": "stdout",
     "output_type": "stream",
     "text": [
      "258336/258376 [============================>.] - ETA: 0s - train_model_loss: 19.4081 - train_reconstruction_loss: 19.2987 - train_kl_loss: 0.0058 - train_regression_loss: 2.1393"
     ]
    },
    {
     "name": "stderr",
     "output_type": "stream",
     "text": [
      "2022-10-31 16:38:07.959594: E tensorflow/core/framework/dataset.cc:825] Unimplemented: Cannot merge options for dataset of type LoadDataset, because the dataset does not implement `InputDatasets`.\n"
     ]
    },
    {
     "name": "stdout",
     "output_type": "stream",
     "text": [
      "258376/258376 [==============================] - 535s 2ms/step - train_model_loss: 19.5465 - train_reconstruction_loss: 19.4218 - train_kl_loss: 0.0059 - train_regression_loss: 2.6216 - val_model_loss: 19.5605 - val_reconstruction_loss: 19.4254 - val_kl_loss: 0.0057 - val_regression_loss: 2.8452\n",
      "\n",
      "epoch 26\n",
      "    64/258376 [..............................] - ETA: 12:24 - train_model_loss: 18.8787 - train_reconstruction_loss: 18.7231 - train_kl_loss: 0.0025 - train_regression_loss: 3.3329"
     ]
    },
    {
     "name": "stderr",
     "output_type": "stream",
     "text": [
      "2022-10-31 16:38:49.617677: E tensorflow/core/framework/dataset.cc:825] Unimplemented: Cannot merge options for dataset of type LoadDataset, because the dataset does not implement `InputDatasets`.\n"
     ]
    },
    {
     "name": "stdout",
     "output_type": "stream",
     "text": [
      "258368/258376 [============================>.] - ETA: 0s - train_model_loss: 19.0977 - train_reconstruction_loss: 18.9086 - train_kl_loss: 0.0046 - train_regression_loss: 4.6358"
     ]
    },
    {
     "name": "stderr",
     "output_type": "stream",
     "text": [
      "2022-10-31 16:47:13.618572: E tensorflow/core/framework/dataset.cc:825] Unimplemented: Cannot merge options for dataset of type LoadDataset, because the dataset does not implement `InputDatasets`.\n"
     ]
    },
    {
     "name": "stdout",
     "output_type": "stream",
     "text": [
      "258376/258376 [==============================] - 544s 2ms/step - train_model_loss: 19.5459 - train_reconstruction_loss: 19.4220 - train_kl_loss: 0.0061 - train_regression_loss: 2.6045 - val_model_loss: 19.5600 - val_reconstruction_loss: 19.4248 - val_kl_loss: 0.0058 - val_regression_loss: 2.8463\n",
      "\n",
      "epoch 27\n",
      "    64/258376 [..............................] - ETA: 12:50 - train_model_loss: 18.8749 - train_reconstruction_loss: 18.7330 - train_kl_loss: 0.0028 - train_regression_loss: 3.0343"
     ]
    },
    {
     "name": "stderr",
     "output_type": "stream",
     "text": [
      "2022-10-31 16:47:53.619164: E tensorflow/core/framework/dataset.cc:825] Unimplemented: Cannot merge options for dataset of type LoadDataset, because the dataset does not implement `InputDatasets`.\n"
     ]
    },
    {
     "name": "stdout",
     "output_type": "stream",
     "text": [
      "258304/258376 [============================>.] - ETA: 0s - train_model_loss: 19.5247 - train_reconstruction_loss: 19.4030 - train_kl_loss: 0.0069 - train_regression_loss: 2.5227"
     ]
    },
    {
     "name": "stderr",
     "output_type": "stream",
     "text": [
      "2022-10-31 16:57:36.391618: E tensorflow/core/framework/dataset.cc:825] Unimplemented: Cannot merge options for dataset of type LoadDataset, because the dataset does not implement `InputDatasets`.\n"
     ]
    },
    {
     "name": "stdout",
     "output_type": "stream",
     "text": [
      "258376/258376 [==============================] - 4059s 16ms/step - train_model_loss: 19.5452 - train_reconstruction_loss: 19.4220 - train_kl_loss: 0.0062 - train_regression_loss: 2.5876 - val_model_loss: 19.5599 - val_reconstruction_loss: 19.4252 - val_kl_loss: 0.0058 - val_regression_loss: 2.8372\n",
      "\n",
      "epoch 28\n",
      "    64/258376 [..............................] - ETA: 13:46 - train_model_loss: 18.8773 - train_reconstruction_loss: 18.7359 - train_kl_loss: 0.0028 - train_regression_loss: 3.0235"
     ]
    },
    {
     "name": "stderr",
     "output_type": "stream",
     "text": [
      "2022-10-31 17:55:32.392164: E tensorflow/core/framework/dataset.cc:825] Unimplemented: Cannot merge options for dataset of type LoadDataset, because the dataset does not implement `InputDatasets`.\n"
     ]
    },
    {
     "name": "stdout",
     "output_type": "stream",
     "text": [
      "258336/258376 [============================>.] - ETA: 8s - train_model_loss: 19.4071 - train_reconstruction_loss: 19.2999 - train_kl_loss: 0.0066 - train_regression_loss: 2.0862 "
     ]
    },
    {
     "name": "stderr",
     "output_type": "stream",
     "text": [
      "2022-11-01 09:02:26.801173: E tensorflow/core/framework/dataset.cc:825] Unimplemented: Cannot merge options for dataset of type LoadDataset, because the dataset does not implement `InputDatasets`.\n"
     ]
    },
    {
     "name": "stdout",
     "output_type": "stream",
     "text": [
      "258376/258376 [==============================] - 54461s 211ms/step - train_model_loss: 19.5443 - train_reconstruction_loss: 19.4219 - train_kl_loss: 0.0063 - train_regression_loss: 2.5715 - val_model_loss: 19.5598 - val_reconstruction_loss: 19.4257 - val_kl_loss: 0.0060 - val_regression_loss: 2.8207\n",
      "\n",
      "epoch 29\n",
      "    64/258376 [..............................] - ETA: 12:34 - train_model_loss: 18.8899 - train_reconstruction_loss: 18.7354 - train_kl_loss: 0.0029 - train_regression_loss: 3.3071"
     ]
    },
    {
     "name": "stderr",
     "output_type": "stream",
     "text": [
      "2022-11-01 09:03:13.170547: E tensorflow/core/framework/dataset.cc:825] Unimplemented: Cannot merge options for dataset of type LoadDataset, because the dataset does not implement `InputDatasets`.\n"
     ]
    },
    {
     "name": "stdout",
     "output_type": "stream",
     "text": [
      "258368/258376 [============================>.] - ETA: 0s - train_model_loss: 19.1113 - train_reconstruction_loss: 18.9226 - train_kl_loss: 0.0038 - train_regression_loss: 4.6390"
     ]
    },
    {
     "name": "stderr",
     "output_type": "stream",
     "text": [
      "2022-11-01 09:10:48.762472: E tensorflow/core/framework/dataset.cc:825] Unimplemented: Cannot merge options for dataset of type LoadDataset, because the dataset does not implement `InputDatasets`.\n"
     ]
    },
    {
     "name": "stdout",
     "output_type": "stream",
     "text": [
      "258376/258376 [==============================] - 497s 2ms/step - train_model_loss: 19.5437 - train_reconstruction_loss: 19.4218 - train_kl_loss: 0.0063 - train_regression_loss: 2.5590 - val_model_loss: 19.5600 - val_reconstruction_loss: 19.4263 - val_kl_loss: 0.0060 - val_regression_loss: 2.8142\n",
      "\n",
      "epoch 30\n",
      "    64/258376 [..............................] - ETA: 13:10 - train_model_loss: 18.8915 - train_reconstruction_loss: 18.7479 - train_kl_loss: 0.0028 - train_regression_loss: 3.0705"
     ]
    },
    {
     "name": "stderr",
     "output_type": "stream",
     "text": [
      "2022-11-01 09:11:29.965518: E tensorflow/core/framework/dataset.cc:825] Unimplemented: Cannot merge options for dataset of type LoadDataset, because the dataset does not implement `InputDatasets`.\n"
     ]
    },
    {
     "name": "stdout",
     "output_type": "stream",
     "text": [
      "258368/258376 [============================>.] - ETA: 0s - train_model_loss: 19.0835 - train_reconstruction_loss: 18.8962 - train_kl_loss: 0.0030 - train_regression_loss: 4.6116"
     ]
    },
    {
     "name": "stderr",
     "output_type": "stream",
     "text": [
      "2022-11-01 09:19:57.645831: E tensorflow/core/framework/dataset.cc:825] Unimplemented: Cannot merge options for dataset of type LoadDataset, because the dataset does not implement `InputDatasets`.\n"
     ]
    },
    {
     "name": "stdout",
     "output_type": "stream",
     "text": [
      "258376/258376 [==============================] - 550s 2ms/step - train_model_loss: 19.5430 - train_reconstruction_loss: 19.4219 - train_kl_loss: 0.0063 - train_regression_loss: 2.5448 - val_model_loss: 19.5590 - val_reconstruction_loss: 19.4260 - val_kl_loss: 0.0060 - val_regression_loss: 2.7986\n",
      "\n",
      "epoch 31\n",
      "     0/258376 [..............................] - ETA: 0s - train_model_loss: 19.7609 - train_reconstruction_loss: 19.5100 - train_kl_loss: 0.0071 - train_regression_loss: 5.0880"
     ]
    },
    {
     "name": "stderr",
     "output_type": "stream",
     "text": [
      "2022-11-01 09:20:40.420191: E tensorflow/core/framework/dataset.cc:825] Unimplemented: Cannot merge options for dataset of type LoadDataset, because the dataset does not implement `InputDatasets`.\n"
     ]
    },
    {
     "name": "stdout",
     "output_type": "stream",
     "text": [
      "258368/258376 [============================>.] - ETA: 0s - train_model_loss: 19.1036 - train_reconstruction_loss: 18.9101 - train_kl_loss: 0.0029 - train_regression_loss: 4.7689- ETA: 6s - train_model_loss: 19.5948 - train_reconstruction_loss: 19.4995 - train_k"
     ]
    },
    {
     "name": "stderr",
     "output_type": "stream",
     "text": [
      "2022-11-01 09:29:43.150687: E tensorflow/core/framework/dataset.cc:825] Unimplemented: Cannot merge options for dataset of type LoadDataset, because the dataset does not implement `InputDatasets`.\n"
     ]
    },
    {
     "name": "stdout",
     "output_type": "stream",
     "text": [
      "258376/258376 [==============================] - 585s 2ms/step - train_model_loss: 19.5425 - train_reconstruction_loss: 19.4218 - train_kl_loss: 0.0064 - train_regression_loss: 2.5324 - val_model_loss: 19.5584 - val_reconstruction_loss: 19.4260 - val_kl_loss: 0.0057 - val_regression_loss: 2.7890\n",
      "\n",
      "epoch 32\n",
      "     0/258376 [..............................] - ETA: 0s - train_model_loss: 19.7520 - train_reconstruction_loss: 19.5007 - train_kl_loss: 0.0071 - train_regression_loss: 5.0954"
     ]
    },
    {
     "name": "stderr",
     "output_type": "stream",
     "text": [
      "2022-11-01 09:30:25.810903: E tensorflow/core/framework/dataset.cc:825] Unimplemented: Cannot merge options for dataset of type LoadDataset, because the dataset does not implement `InputDatasets`.\n"
     ]
    },
    {
     "name": "stdout",
     "output_type": "stream",
     "text": [
      "258368/258376 [============================>.] - ETA: 0s - train_model_loss: 19.0964 - train_reconstruction_loss: 18.9072 - train_kl_loss: 0.0032 - train_regression_loss: 4.6575"
     ]
    },
    {
     "name": "stderr",
     "output_type": "stream",
     "text": [
      "2022-11-01 09:39:19.693767: E tensorflow/core/framework/dataset.cc:825] Unimplemented: Cannot merge options for dataset of type LoadDataset, because the dataset does not implement `InputDatasets`.\n"
     ]
    },
    {
     "name": "stdout",
     "output_type": "stream",
     "text": [
      "258376/258376 [==============================] - 576s 2ms/step - train_model_loss: 19.5418 - train_reconstruction_loss: 19.4217 - train_kl_loss: 0.0064 - train_regression_loss: 2.5212 - val_model_loss: 19.5582 - val_reconstruction_loss: 19.4258 - val_kl_loss: 0.0060 - val_regression_loss: 2.7882\n",
      "\n",
      "epoch 33\n",
      "     0/258376 [..............................] - ETA: 0s - train_model_loss: 19.7733 - train_reconstruction_loss: 19.5218 - train_kl_loss: 0.0076 - train_regression_loss: 5.0960"
     ]
    },
    {
     "name": "stderr",
     "output_type": "stream",
     "text": [
      "2022-11-01 09:40:01.589296: E tensorflow/core/framework/dataset.cc:825] Unimplemented: Cannot merge options for dataset of type LoadDataset, because the dataset does not implement `InputDatasets`.\n"
     ]
    },
    {
     "name": "stdout",
     "output_type": "stream",
     "text": [
      "258368/258376 [============================>.] - ETA: 0s - train_model_loss: 19.0939 - train_reconstruction_loss: 18.9047 - train_kl_loss: 0.0041 - train_regression_loss: 4.6479"
     ]
    },
    {
     "name": "stderr",
     "output_type": "stream",
     "text": [
      "2022-11-01 09:49:39.844374: E tensorflow/core/framework/dataset.cc:825] Unimplemented: Cannot merge options for dataset of type LoadDataset, because the dataset does not implement `InputDatasets`.\n"
     ]
    },
    {
     "name": "stdout",
     "output_type": "stream",
     "text": [
      "258376/258376 [==============================] - 625s 2ms/step - train_model_loss: 19.5413 - train_reconstruction_loss: 19.4215 - train_kl_loss: 0.0064 - train_regression_loss: 2.5111 - val_model_loss: 19.5577 - val_reconstruction_loss: 19.4252 - val_kl_loss: 0.0064 - val_regression_loss: 2.7856\n",
      "\n",
      "epoch 34\n",
      "     0/258376 [..............................] - ETA: 0s - train_model_loss: 19.7816 - train_reconstruction_loss: 19.5167 - train_kl_loss: 0.0068 - train_regression_loss: 5.3790"
     ]
    },
    {
     "name": "stderr",
     "output_type": "stream",
     "text": [
      "2022-11-01 09:50:26.879756: E tensorflow/core/framework/dataset.cc:825] Unimplemented: Cannot merge options for dataset of type LoadDataset, because the dataset does not implement `InputDatasets`.\n"
     ]
    },
    {
     "name": "stdout",
     "output_type": "stream",
     "text": [
      "258368/258376 [============================>.] - ETA: 0s - train_model_loss: 19.1115 - train_reconstruction_loss: 18.9207 - train_kl_loss: 0.0031 - train_regression_loss: 4.7003"
     ]
    },
    {
     "name": "stderr",
     "output_type": "stream",
     "text": [
      "2022-11-01 10:00:16.269511: E tensorflow/core/framework/dataset.cc:825] Unimplemented: Cannot merge options for dataset of type LoadDataset, because the dataset does not implement `InputDatasets`.\n"
     ]
    },
    {
     "name": "stdout",
     "output_type": "stream",
     "text": [
      "258376/258376 [==============================] - 644s 2ms/step - train_model_loss: 19.5407 - train_reconstruction_loss: 19.4216 - train_kl_loss: 0.0065 - train_regression_loss: 2.4977 - val_model_loss: 19.5572 - val_reconstruction_loss: 19.4249 - val_kl_loss: 0.0059 - val_regression_loss: 2.7858\n",
      "\n",
      "epoch 35\n",
      "     0/258376 [..............................] - ETA: 0s - train_model_loss: 19.7708 - train_reconstruction_loss: 19.5145 - train_kl_loss: 0.0073 - train_regression_loss: 5.1959"
     ]
    },
    {
     "name": "stderr",
     "output_type": "stream",
     "text": [
      "2022-11-01 10:01:10.440358: E tensorflow/core/framework/dataset.cc:825] Unimplemented: Cannot merge options for dataset of type LoadDataset, because the dataset does not implement `InputDatasets`.\n"
     ]
    },
    {
     "name": "stdout",
     "output_type": "stream",
     "text": [
      "258336/258376 [============================>.] - ETA: 0s - train_model_loss: 19.4157 - train_reconstruction_loss: 19.3022 - train_kl_loss: 0.0090 - train_regression_loss: 2.1906"
     ]
    },
    {
     "name": "stderr",
     "output_type": "stream",
     "text": [
      "2022-11-01 10:09:07.953181: E tensorflow/core/framework/dataset.cc:825] Unimplemented: Cannot merge options for dataset of type LoadDataset, because the dataset does not implement `InputDatasets`.\n"
     ]
    },
    {
     "name": "stdout",
     "output_type": "stream",
     "text": [
      "258376/258376 [==============================] - 522s 2ms/step - train_model_loss: 19.5405 - train_reconstruction_loss: 19.4216 - train_kl_loss: 0.0065 - train_regression_loss: 2.4921 - val_model_loss: 19.5583 - val_reconstruction_loss: 19.4251 - val_kl_loss: 0.0069 - val_regression_loss: 2.7962\n",
      "\n",
      "epoch 36\n",
      "     0/258376 [..............................] - ETA: 0s - train_model_loss: 19.7864 - train_reconstruction_loss: 19.5158 - train_kl_loss: 0.0075 - train_regression_loss: 5.4896"
     ]
    },
    {
     "name": "stderr",
     "output_type": "stream",
     "text": [
      "2022-11-01 10:09:52.740926: E tensorflow/core/framework/dataset.cc:825] Unimplemented: Cannot merge options for dataset of type LoadDataset, because the dataset does not implement `InputDatasets`.\n"
     ]
    },
    {
     "name": "stdout",
     "output_type": "stream",
     "text": [
      "258368/258376 [============================>.] - ETA: 0s - train_model_loss: 19.0690 - train_reconstruction_loss: 18.8806 - train_kl_loss: 0.0034 - train_regression_loss: 4.6351"
     ]
    },
    {
     "name": "stderr",
     "output_type": "stream",
     "text": [
      "2022-11-01 10:18:34.776992: E tensorflow/core/framework/dataset.cc:825] Unimplemented: Cannot merge options for dataset of type LoadDataset, because the dataset does not implement `InputDatasets`.\n"
     ]
    },
    {
     "name": "stdout",
     "output_type": "stream",
     "text": [
      "258376/258376 [==============================] - 569s 2ms/step - train_model_loss: 19.5401 - train_reconstruction_loss: 19.4217 - train_kl_loss: 0.0065 - train_regression_loss: 2.4821 - val_model_loss: 19.5561 - val_reconstruction_loss: 19.4239 - val_kl_loss: 0.0064 - val_regression_loss: 2.7775\n",
      "\n",
      "epoch 37\n",
      "    64/258376 [..............................] - ETA: 16:16 - train_model_loss: 18.8530 - train_reconstruction_loss: 18.7333 - train_kl_loss: 0.0038 - train_regression_loss: 2.5444"
     ]
    },
    {
     "name": "stderr",
     "output_type": "stream",
     "text": [
      "2022-11-01 10:19:22.308907: E tensorflow/core/framework/dataset.cc:825] Unimplemented: Cannot merge options for dataset of type LoadDataset, because the dataset does not implement `InputDatasets`.\n"
     ]
    },
    {
     "name": "stdout",
     "output_type": "stream",
     "text": [
      "258304/258376 [============================>.] - ETA: 0s - train_model_loss: 19.5236 - train_reconstruction_loss: 19.4052 - train_kl_loss: 0.0083 - train_regression_loss: 2.4373"
     ]
    },
    {
     "name": "stderr",
     "output_type": "stream",
     "text": [
      "2022-11-01 10:28:59.955098: E tensorflow/core/framework/dataset.cc:825] Unimplemented: Cannot merge options for dataset of type LoadDataset, because the dataset does not implement `InputDatasets`.\n"
     ]
    },
    {
     "name": "stdout",
     "output_type": "stream",
     "text": [
      "258376/258376 [==============================] - 615s 2ms/step - train_model_loss: 19.5396 - train_reconstruction_loss: 19.4215 - train_kl_loss: 0.0067 - train_regression_loss: 2.4747 - val_model_loss: 19.5569 - val_reconstruction_loss: 19.4250 - val_kl_loss: 0.0069 - val_regression_loss: 2.7657\n",
      "\n",
      "epoch 38\n",
      "    64/258376 [..............................] - ETA: 11:40 - train_model_loss: 18.8789 - train_reconstruction_loss: 18.7280 - train_kl_loss: 0.0035 - train_regression_loss: 3.2210"
     ]
    },
    {
     "name": "stderr",
     "output_type": "stream",
     "text": [
      "2022-11-01 10:29:37.206268: E tensorflow/core/framework/dataset.cc:825] Unimplemented: Cannot merge options for dataset of type LoadDataset, because the dataset does not implement `InputDatasets`.\n"
     ]
    },
    {
     "name": "stdout",
     "output_type": "stream",
     "text": [
      "258368/258376 [============================>.] - ETA: 0s - train_model_loss: 19.1020 - train_reconstruction_loss: 18.9202 - train_kl_loss: 0.0040 - train_regression_loss: 4.4650"
     ]
    },
    {
     "name": "stderr",
     "output_type": "stream",
     "text": [
      "2022-11-01 11:40:00.774421: E tensorflow/core/framework/dataset.cc:825] Unimplemented: Cannot merge options for dataset of type LoadDataset, because the dataset does not implement `InputDatasets`.\n"
     ]
    },
    {
     "name": "stdout",
     "output_type": "stream",
     "text": [
      "258376/258376 [==============================] - 4261s 16ms/step - train_model_loss: 19.5390 - train_reconstruction_loss: 19.4213 - train_kl_loss: 0.0067 - train_regression_loss: 2.4644 - val_model_loss: 19.5567 - val_reconstruction_loss: 19.4246 - val_kl_loss: 0.0066 - val_regression_loss: 2.7731\n",
      "\n",
      "epoch 39\n",
      "     0/258376 [..............................] - ETA: 0s - train_model_loss: 19.7665 - train_reconstruction_loss: 19.4982 - train_kl_loss: 0.0055 - train_regression_loss: 5.4617"
     ]
    },
    {
     "name": "stderr",
     "output_type": "stream",
     "text": [
      "2022-11-01 11:40:38.669314: E tensorflow/core/framework/dataset.cc:825] Unimplemented: Cannot merge options for dataset of type LoadDataset, because the dataset does not implement `InputDatasets`.\n"
     ]
    },
    {
     "name": "stdout",
     "output_type": "stream",
     "text": [
      "258368/258376 [============================>.] - ETA: 0s - train_model_loss: 19.0926 - train_reconstruction_loss: 18.9153 - train_kl_loss: 0.0041 - train_regression_loss: 4.3521"
     ]
    },
    {
     "name": "stderr",
     "output_type": "stream",
     "text": [
      "2022-11-01 11:49:35.651930: E tensorflow/core/framework/dataset.cc:825] Unimplemented: Cannot merge options for dataset of type LoadDataset, because the dataset does not implement `InputDatasets`.\n"
     ]
    },
    {
     "name": "stdout",
     "output_type": "stream",
     "text": [
      "258376/258376 [==============================] - 577s 2ms/step - train_model_loss: 19.5386 - train_reconstruction_loss: 19.4214 - train_kl_loss: 0.0067 - train_regression_loss: 2.4575 - val_model_loss: 19.5582 - val_reconstruction_loss: 19.4257 - val_kl_loss: 0.0069 - val_regression_loss: 2.7790\n",
      "\n",
      "epoch 40\n",
      "    64/258376 [..............................] - ETA: 14:11 - train_model_loss: 18.8779 - train_reconstruction_loss: 18.7343 - train_kl_loss: 0.0035 - train_regression_loss: 3.0621"
     ]
    },
    {
     "name": "stderr",
     "output_type": "stream",
     "text": [
      "2022-11-01 11:50:15.694413: E tensorflow/core/framework/dataset.cc:825] Unimplemented: Cannot merge options for dataset of type LoadDataset, because the dataset does not implement `InputDatasets`.\n"
     ]
    },
    {
     "name": "stdout",
     "output_type": "stream",
     "text": [
      "258368/258376 [============================>.] - ETA: 0s - train_model_loss: 19.0885 - train_reconstruction_loss: 18.9083 - train_kl_loss: 0.0036 - train_regression_loss: 4.4315"
     ]
    },
    {
     "name": "stderr",
     "output_type": "stream",
     "text": [
      "2022-11-01 11:58:56.660920: E tensorflow/core/framework/dataset.cc:825] Unimplemented: Cannot merge options for dataset of type LoadDataset, because the dataset does not implement `InputDatasets`.\n"
     ]
    },
    {
     "name": "stdout",
     "output_type": "stream",
     "text": [
      "258376/258376 [==============================] - 563s 2ms/step - train_model_loss: 19.5383 - train_reconstruction_loss: 19.4213 - train_kl_loss: 0.0067 - train_regression_loss: 2.4494 - val_model_loss: 19.5568 - val_reconstruction_loss: 19.4254 - val_kl_loss: 0.0065 - val_regression_loss: 2.7603\n",
      "\n",
      "epoch 41\n",
      "     0/258376 [..............................] - ETA: 0s - train_model_loss: 19.7634 - train_reconstruction_loss: 19.4972 - train_kl_loss: 0.0061 - train_regression_loss: 5.4116"
     ]
    },
    {
     "name": "stderr",
     "output_type": "stream",
     "text": [
      "2022-11-01 11:59:38.841974: E tensorflow/core/framework/dataset.cc:825] Unimplemented: Cannot merge options for dataset of type LoadDataset, because the dataset does not implement `InputDatasets`.\n"
     ]
    },
    {
     "name": "stdout",
     "output_type": "stream",
     "text": [
      "258368/258376 [============================>.] - ETA: 0s - train_model_loss: 19.0950 - train_reconstruction_loss: 18.9207 - train_kl_loss: 0.0041 - train_regression_loss: 4.2762"
     ]
    },
    {
     "name": "stderr",
     "output_type": "stream",
     "text": [
      "2022-11-01 12:07:55.491534: E tensorflow/core/framework/dataset.cc:825] Unimplemented: Cannot merge options for dataset of type LoadDataset, because the dataset does not implement `InputDatasets`.\n"
     ]
    },
    {
     "name": "stdout",
     "output_type": "stream",
     "text": [
      "258376/258376 [==============================] - 537s 2ms/step - train_model_loss: 19.5381 - train_reconstruction_loss: 19.4214 - train_kl_loss: 0.0069 - train_regression_loss: 2.4431 - val_model_loss: 19.5572 - val_reconstruction_loss: 19.4244 - val_kl_loss: 0.0071 - val_regression_loss: 2.7819\n",
      "\n",
      "epoch 42\n",
      "     0/258376 [..............................] - ETA: 0s - train_model_loss: 19.7752 - train_reconstruction_loss: 19.5041 - train_kl_loss: 0.0051 - train_regression_loss: 5.5232"
     ]
    },
    {
     "name": "stderr",
     "output_type": "stream",
     "text": [
      "2022-11-01 12:08:35.407488: E tensorflow/core/framework/dataset.cc:825] Unimplemented: Cannot merge options for dataset of type LoadDataset, because the dataset does not implement `InputDatasets`.\n"
     ]
    },
    {
     "name": "stdout",
     "output_type": "stream",
     "text": [
      "258336/258376 [============================>.] - ETA: 0s - train_model_loss: 19.3886 - train_reconstruction_loss: 19.2884 - train_kl_loss: 0.0075 - train_regression_loss: 1.9351"
     ]
    },
    {
     "name": "stderr",
     "output_type": "stream",
     "text": [
      "2022-11-01 12:17:11.303000: E tensorflow/core/framework/dataset.cc:825] Unimplemented: Cannot merge options for dataset of type LoadDataset, because the dataset does not implement `InputDatasets`.\n"
     ]
    },
    {
     "name": "stdout",
     "output_type": "stream",
     "text": [
      "258376/258376 [==============================] - 559s 2ms/step - train_model_loss: 19.5377 - train_reconstruction_loss: 19.4214 - train_kl_loss: 0.0069 - train_regression_loss: 2.4360 - val_model_loss: 19.5570 - val_reconstruction_loss: 19.4249 - val_kl_loss: 0.0073 - val_regression_loss: 2.7663\n",
      "\n",
      "epoch 43\n",
      "    64/258376 [..............................] - ETA: 13:35 - train_model_loss: 18.8861 - train_reconstruction_loss: 18.7369 - train_kl_loss: 0.0039 - train_regression_loss: 3.1826"
     ]
    },
    {
     "name": "stderr",
     "output_type": "stream",
     "text": [
      "2022-11-01 12:17:54.541774: E tensorflow/core/framework/dataset.cc:825] Unimplemented: Cannot merge options for dataset of type LoadDataset, because the dataset does not implement `InputDatasets`.\n"
     ]
    },
    {
     "name": "stdout",
     "output_type": "stream",
     "text": [
      "258336/258376 [============================>.] - ETA: 0s - train_model_loss: 19.3933 - train_reconstruction_loss: 19.2935 - train_kl_loss: 0.0065 - train_regression_loss: 1.9388"
     ]
    },
    {
     "name": "stderr",
     "output_type": "stream",
     "text": [
      "2022-11-01 12:26:26.473796: E tensorflow/core/framework/dataset.cc:825] Unimplemented: Cannot merge options for dataset of type LoadDataset, because the dataset does not implement `InputDatasets`.\n"
     ]
    },
    {
     "name": "stdout",
     "output_type": "stream",
     "text": [
      "258376/258376 [==============================] - 555s 2ms/step - train_model_loss: 19.5376 - train_reconstruction_loss: 19.4212 - train_kl_loss: 0.0070 - train_regression_loss: 2.4323 - val_model_loss: 19.5576 - val_reconstruction_loss: 19.4249 - val_kl_loss: 0.0073 - val_regression_loss: 2.7789\n",
      "\n",
      "epoch 44\n",
      "     0/258376 [..............................] - ETA: 0s - train_model_loss: 19.7838 - train_reconstruction_loss: 19.5073 - train_kl_loss: 0.0043 - train_regression_loss: 5.6433"
     ]
    },
    {
     "name": "stderr",
     "output_type": "stream",
     "text": [
      "2022-11-01 12:27:10.013061: E tensorflow/core/framework/dataset.cc:825] Unimplemented: Cannot merge options for dataset of type LoadDataset, because the dataset does not implement `InputDatasets`.\n"
     ]
    },
    {
     "name": "stdout",
     "output_type": "stream",
     "text": [
      "258368/258376 [============================>.] - ETA: 0s - train_model_loss: 19.0841 - train_reconstruction_loss: 18.9035 - train_kl_loss: 0.0036 - train_regression_loss: 4.4400"
     ]
    },
    {
     "name": "stderr",
     "output_type": "stream",
     "text": [
      "2022-11-01 12:37:07.367943: E tensorflow/core/framework/dataset.cc:825] Unimplemented: Cannot merge options for dataset of type LoadDataset, because the dataset does not implement `InputDatasets`.\n"
     ]
    },
    {
     "name": "stdout",
     "output_type": "stream",
     "text": [
      "258376/258376 [==============================] - 638s 2ms/step - train_model_loss: 19.5372 - train_reconstruction_loss: 19.4212 - train_kl_loss: 0.0071 - train_regression_loss: 2.4231 - val_model_loss: 19.5563 - val_reconstruction_loss: 19.4251 - val_kl_loss: 0.0069 - val_regression_loss: 2.7518\n",
      "\n",
      "epoch 45\n",
      "     0/258376 [..............................] - ETA: 0s - train_model_loss: 19.7655 - train_reconstruction_loss: 19.5023 - train_kl_loss: 0.0040 - train_regression_loss: 5.3709"
     ]
    },
    {
     "name": "stderr",
     "output_type": "stream",
     "text": [
      "2022-11-01 12:37:48.049915: E tensorflow/core/framework/dataset.cc:825] Unimplemented: Cannot merge options for dataset of type LoadDataset, because the dataset does not implement `InputDatasets`.\n"
     ]
    },
    {
     "name": "stdout",
     "output_type": "stream",
     "text": [
      "258368/258376 [============================>.] - ETA: 0s - train_model_loss: 19.0893 - train_reconstruction_loss: 18.9076 - train_kl_loss: 0.0037 - train_regression_loss: 4.4640"
     ]
    },
    {
     "name": "stderr",
     "output_type": "stream",
     "text": [
      "2022-11-01 12:46:32.961903: E tensorflow/core/framework/dataset.cc:825] Unimplemented: Cannot merge options for dataset of type LoadDataset, because the dataset does not implement `InputDatasets`.\n"
     ]
    },
    {
     "name": "stdout",
     "output_type": "stream",
     "text": [
      "258376/258376 [==============================] - 566s 2ms/step - train_model_loss: 19.5364 - train_reconstruction_loss: 19.4210 - train_kl_loss: 0.0070 - train_regression_loss: 2.4161 - val_model_loss: 19.5559 - val_reconstruction_loss: 19.4259 - val_kl_loss: 0.0065 - val_regression_loss: 2.7285\n",
      "\n",
      "epoch 46\n",
      "    64/258376 [..............................] - ETA: 12:15 - train_model_loss: 18.8754 - train_reconstruction_loss: 18.7309 - train_kl_loss: 0.0031 - train_regression_loss: 3.0878"
     ]
    },
    {
     "name": "stderr",
     "output_type": "stream",
     "text": [
      "2022-11-01 12:47:14.305625: E tensorflow/core/framework/dataset.cc:825] Unimplemented: Cannot merge options for dataset of type LoadDataset, because the dataset does not implement `InputDatasets`.\n"
     ]
    },
    {
     "name": "stdout",
     "output_type": "stream",
     "text": [
      "258304/258376 [============================>.] - ETA: 0s - train_model_loss: 19.5285 - train_reconstruction_loss: 19.4055 - train_kl_loss: 0.0064 - train_regression_loss: 2.5543      A: 2:01 - train_model_loss: 19.2874 - train_reconstruction_loss: 19.1735 - train_kl_loss: 0.0079 - ETA: 33s - train_model_loss: 18.9028 - train_reconstructi - ETA: 28s - train_model_loss: 19.3712 - train_reconstruction_loss: 19. - ETA: 24s - train_model_loss: 19 - ETA: 18s - train_model_loss - ETA: 12s - train"
     ]
    },
    {
     "name": "stderr",
     "output_type": "stream",
     "text": [
      "2022-11-01 12:55:29.307869: E tensorflow/core/framework/dataset.cc:825] Unimplemented: Cannot merge options for dataset of type LoadDataset, because the dataset does not implement `InputDatasets`.\n"
     ]
    },
    {
     "name": "stdout",
     "output_type": "stream",
     "text": [
      "258376/258376 [==============================] - 531s 2ms/step - train_model_loss: 19.5364 - train_reconstruction_loss: 19.4212 - train_kl_loss: 0.0069 - train_regression_loss: 2.4101 - val_model_loss: 19.5550 - val_reconstruction_loss: 19.4247 - val_kl_loss: 0.0072 - val_regression_loss: 2.7304\n",
      "\n",
      "epoch 47\n",
      "    96/258376 [..............................] - ETA: 9:04 - train_model_loss: 19.3547 - train_reconstruction_loss: 19.2038 - train_kl_loss: 0.0072 - train_regression_loss: 3.1430"
     ]
    },
    {
     "name": "stderr",
     "output_type": "stream",
     "text": [
      "2022-11-01 12:56:05.629014: E tensorflow/core/framework/dataset.cc:825] Unimplemented: Cannot merge options for dataset of type LoadDataset, because the dataset does not implement `InputDatasets`.\n"
     ]
    },
    {
     "name": "stdout",
     "output_type": "stream",
     "text": [
      "258336/258376 [============================>.] - ETA: 0s - train_model_loss: 19.3985 - train_reconstruction_loss: 19.2963 - train_kl_loss: 0.0078 - train_regression_loss: 1.9727"
     ]
    },
    {
     "name": "stderr",
     "output_type": "stream",
     "text": [
      "2022-11-01 13:03:40.702653: E tensorflow/core/framework/dataset.cc:825] Unimplemented: Cannot merge options for dataset of type LoadDataset, because the dataset does not implement `InputDatasets`.\n"
     ]
    },
    {
     "name": "stdout",
     "output_type": "stream",
     "text": [
      "258376/258376 [==============================] - 489s 2ms/step - train_model_loss: 19.5363 - train_reconstruction_loss: 19.4212 - train_kl_loss: 0.0069 - train_regression_loss: 2.4061 - val_model_loss: 19.5544 - val_reconstruction_loss: 19.4237 - val_kl_loss: 0.0066 - val_regression_loss: 2.7413\n",
      "\n",
      "epoch 48\n",
      "     0/258376 [..............................] - ETA: 0s - train_model_loss: 19.7307 - train_reconstruction_loss: 19.4976 - train_kl_loss: 0.0047 - train_regression_loss: 4.7454"
     ]
    },
    {
     "name": "stderr",
     "output_type": "stream",
     "text": [
      "2022-11-01 13:04:15.109613: E tensorflow/core/framework/dataset.cc:825] Unimplemented: Cannot merge options for dataset of type LoadDataset, because the dataset does not implement `InputDatasets`.\n"
     ]
    },
    {
     "name": "stdout",
     "output_type": "stream",
     "text": [
      "258368/258376 [============================>.] - ETA: 0s - train_model_loss: 19.0830 - train_reconstruction_loss: 18.9027 - train_kl_loss: 0.0015 - train_regression_loss: 4.4596"
     ]
    },
    {
     "name": "stderr",
     "output_type": "stream",
     "text": [
      "2022-11-01 13:11:25.320335: E tensorflow/core/framework/dataset.cc:825] Unimplemented: Cannot merge options for dataset of type LoadDataset, because the dataset does not implement `InputDatasets`.\n"
     ]
    },
    {
     "name": "stdout",
     "output_type": "stream",
     "text": [
      "258376/258376 [==============================] - 468s 2ms/step - train_model_loss: 19.5358 - train_reconstruction_loss: 19.4212 - train_kl_loss: 0.0069 - train_regression_loss: 2.3997 - val_model_loss: 19.5548 - val_reconstruction_loss: 19.4249 - val_kl_loss: 0.0064 - val_regression_loss: 2.7290\n",
      "\n",
      "epoch 49\n",
      "     0/258376 [..............................] - ETA: 0s - train_model_loss: 19.7481 - train_reconstruction_loss: 19.5135 - train_kl_loss: 0.0051 - train_regression_loss: 4.7708"
     ]
    },
    {
     "name": "stderr",
     "output_type": "stream",
     "text": [
      "2022-11-01 13:12:03.033035: E tensorflow/core/framework/dataset.cc:825] Unimplemented: Cannot merge options for dataset of type LoadDataset, because the dataset does not implement `InputDatasets`.\n"
     ]
    },
    {
     "name": "stdout",
     "output_type": "stream",
     "text": [
      "258368/258376 [============================>.] - ETA: 0s - train_model_loss: 19.0707 - train_reconstruction_loss: 18.8894 - train_kl_loss: 0.0028 - train_regression_loss: 4.4685"
     ]
    },
    {
     "name": "stderr",
     "output_type": "stream",
     "text": [
      "2022-11-01 13:48:34.343766: E tensorflow/core/framework/dataset.cc:825] Unimplemented: Cannot merge options for dataset of type LoadDataset, because the dataset does not implement `InputDatasets`.\n"
     ]
    },
    {
     "name": "stdout",
     "output_type": "stream",
     "text": [
      "258376/258376 [==============================] - 2248s 9ms/step - train_model_loss: 19.5358 - train_reconstruction_loss: 19.4212 - train_kl_loss: 0.0069 - train_regression_loss: 2.3961 - val_model_loss: 19.5535 - val_reconstruction_loss: 19.4236 - val_kl_loss: 0.0069 - val_regression_loss: 2.7234\n",
      "\n",
      "epoch 50\n",
      "     0/258376 [..............................] - ETA: 0s - train_model_loss: 19.7474 - train_reconstruction_loss: 19.5096 - train_kl_loss: 0.0050 - train_regression_loss: 4.8394"
     ]
    },
    {
     "name": "stderr",
     "output_type": "stream",
     "text": [
      "2022-11-01 13:49:31.320887: E tensorflow/core/framework/dataset.cc:825] Unimplemented: Cannot merge options for dataset of type LoadDataset, because the dataset does not implement `InputDatasets`.\n"
     ]
    },
    {
     "name": "stdout",
     "output_type": "stream",
     "text": [
      "258336/258376 [============================>.] - ETA: 0s - train_model_loss: 19.4064 - train_reconstruction_loss: 19.3098 - train_kl_loss: 0.0084 - train_regression_loss: 1.8563"
     ]
    },
    {
     "name": "stderr",
     "output_type": "stream",
     "text": [
      "2022-11-01 14:00:14.563882: E tensorflow/core/framework/dataset.cc:825] Unimplemented: Cannot merge options for dataset of type LoadDataset, because the dataset does not implement `InputDatasets`.\n"
     ]
    },
    {
     "name": "stdout",
     "output_type": "stream",
     "text": [
      "258376/258376 [==============================] - 687s 3ms/step - train_model_loss: 19.5353 - train_reconstruction_loss: 19.4212 - train_kl_loss: 0.0068 - train_regression_loss: 2.3889 - val_model_loss: 19.5532 - val_reconstruction_loss: 19.4235 - val_kl_loss: 0.0064 - val_regression_loss: 2.7253\n",
      "Convergence history: [1]\n",
      "\n",
      "epoch 51\n",
      "    64/258376 [..............................] - ETA: 14:07 - train_model_loss: 18.8861 - train_reconstruction_loss: 18.7197 - train_kl_loss: 0.0020 - train_regression_loss: 3.5738"
     ]
    },
    {
     "name": "stderr",
     "output_type": "stream",
     "text": [
      "2022-11-01 14:00:58.675438: E tensorflow/core/framework/dataset.cc:825] Unimplemented: Cannot merge options for dataset of type LoadDataset, because the dataset does not implement `InputDatasets`.\n"
     ]
    },
    {
     "name": "stdout",
     "output_type": "stream",
     "text": [
      "258368/258376 [============================>.] - ETA: 0s - train_model_loss: 19.0862 - train_reconstruction_loss: 18.9099 - train_kl_loss: 0.0014 - train_regression_loss: 4.3607"
     ]
    },
    {
     "name": "stderr",
     "output_type": "stream",
     "text": [
      "2022-11-01 14:09:12.301484: E tensorflow/core/framework/dataset.cc:825] Unimplemented: Cannot merge options for dataset of type LoadDataset, because the dataset does not implement `InputDatasets`.\n"
     ]
    },
    {
     "name": "stdout",
     "output_type": "stream",
     "text": [
      "258376/258376 [==============================] - 535s 2ms/step - train_model_loss: 19.5352 - train_reconstruction_loss: 19.4212 - train_kl_loss: 0.0069 - train_regression_loss: 2.3839 - val_model_loss: 19.5548 - val_reconstruction_loss: 19.4255 - val_kl_loss: 0.0065 - val_regression_loss: 2.7154\n",
      "Convergence history: [1, 1]\n",
      "\n",
      "epoch 52\n",
      "    64/258376 [..............................] - ETA: 11:14 - train_model_loss: 18.8877 - train_reconstruction_loss: 18.7231 - train_kl_loss: 0.0030 - train_regression_loss: 3.5242"
     ]
    },
    {
     "name": "stderr",
     "output_type": "stream",
     "text": [
      "2022-11-01 14:09:53.276735: E tensorflow/core/framework/dataset.cc:825] Unimplemented: Cannot merge options for dataset of type LoadDataset, because the dataset does not implement `InputDatasets`.\n"
     ]
    },
    {
     "name": "stdout",
     "output_type": "stream",
     "text": [
      "258368/258376 [============================>.] - ETA: 0s - train_model_loss: 19.0795 - train_reconstruction_loss: 18.9058 - train_kl_loss: 0.0024 - train_regression_loss: 4.2829"
     ]
    },
    {
     "name": "stderr",
     "output_type": "stream",
     "text": [
      "2022-11-01 14:18:22.689776: E tensorflow/core/framework/dataset.cc:825] Unimplemented: Cannot merge options for dataset of type LoadDataset, because the dataset does not implement `InputDatasets`.\n"
     ]
    },
    {
     "name": "stdout",
     "output_type": "stream",
     "text": [
      "258376/258376 [==============================] - 556s 2ms/step - train_model_loss: 19.5349 - train_reconstruction_loss: 19.4212 - train_kl_loss: 0.0069 - train_regression_loss: 2.3778 - val_model_loss: 19.5546 - val_reconstruction_loss: 19.4251 - val_kl_loss: 0.0066 - val_regression_loss: 2.7167\n",
      "Convergence history: [1, 1, 1]\n",
      "\n",
      "epoch 53\n",
      "     0/258376 [..............................] - ETA: 0s - train_model_loss: 19.7399 - train_reconstruction_loss: 19.5140 - train_kl_loss: 0.0055 - train_regression_loss: 4.5889"
     ]
    },
    {
     "name": "stderr",
     "output_type": "stream",
     "text": [
      "2022-11-01 14:19:08.893334: E tensorflow/core/framework/dataset.cc:825] Unimplemented: Cannot merge options for dataset of type LoadDataset, because the dataset does not implement `InputDatasets`.\n"
     ]
    },
    {
     "name": "stdout",
     "output_type": "stream",
     "text": [
      "258336/258376 [============================>.] - ETA: 0s - train_model_loss: 19.4053 - train_reconstruction_loss: 19.3046 - train_kl_loss: 0.0085 - train_regression_loss: 1.9373"
     ]
    },
    {
     "name": "stderr",
     "output_type": "stream",
     "text": [
      "2022-11-01 14:29:13.711278: E tensorflow/core/framework/dataset.cc:825] Unimplemented: Cannot merge options for dataset of type LoadDataset, because the dataset does not implement `InputDatasets`.\n"
     ]
    },
    {
     "name": "stdout",
     "output_type": "stream",
     "text": [
      "258376/258376 [==============================] - 645s 2ms/step - train_model_loss: 19.5347 - train_reconstruction_loss: 19.4212 - train_kl_loss: 0.0069 - train_regression_loss: 2.3751 - val_model_loss: 19.5550 - val_reconstruction_loss: 19.4251 - val_kl_loss: 0.0067 - val_regression_loss: 2.7253\n",
      "Convergence history: [1, 1, 1, 1]\n",
      "\n",
      "epoch 54\n",
      "    32/258376 [..............................] - ETA: 22:47 - train_model_loss: 19.8043 - train_reconstruction_loss: 19.6742 - train_kl_loss: 0.0047 - train_regression_loss: 2.7551"
     ]
    },
    {
     "name": "stderr",
     "output_type": "stream",
     "text": [
      "2022-11-01 14:29:54.262466: E tensorflow/core/framework/dataset.cc:825] Unimplemented: Cannot merge options for dataset of type LoadDataset, because the dataset does not implement `InputDatasets`.\n"
     ]
    },
    {
     "name": "stdout",
     "output_type": "stream",
     "text": [
      "258368/258376 [============================>.] - ETA: 0s - train_model_loss: 19.0777 - train_reconstruction_loss: 18.9019 - train_kl_loss: 8.3226e-04 - train_regression_loss: 4.3539"
     ]
    },
    {
     "name": "stderr",
     "output_type": "stream",
     "text": [
      "2022-11-01 14:38:27.286994: E tensorflow/core/framework/dataset.cc:825] Unimplemented: Cannot merge options for dataset of type LoadDataset, because the dataset does not implement `InputDatasets`.\n"
     ]
    },
    {
     "name": "stdout",
     "output_type": "stream",
     "text": [
      "258376/258376 [==============================] - 560s 2ms/step - train_model_loss: 19.5342 - train_reconstruction_loss: 19.4211 - train_kl_loss: 0.0069 - train_regression_loss: 2.3661 - val_model_loss: 19.5544 - val_reconstruction_loss: 19.4254 - val_kl_loss: 0.0062 - val_regression_loss: 2.7111\n",
      "Convergence history: [1, 1, 1, 1, 1]\n",
      "\n",
      "epoch 55\n",
      "Converged. Stall: 1/10\n",
      "     0/258376 [..............................] - ETA: 0s - train_model_loss: 19.7275 - train_reconstruction_loss: 19.5100 - train_kl_loss: 0.0062 - train_regression_loss: 4.4089"
     ]
    },
    {
     "name": "stderr",
     "output_type": "stream",
     "text": [
      "2022-11-01 14:39:14.444492: E tensorflow/core/framework/dataset.cc:825] Unimplemented: Cannot merge options for dataset of type LoadDataset, because the dataset does not implement `InputDatasets`.\n"
     ]
    },
    {
     "name": "stdout",
     "output_type": "stream",
     "text": [
      "258336/258376 [============================>.] - ETA: 0s - train_model_loss: 19.3940 - train_reconstruction_loss: 19.2956 - train_kl_loss: 0.0077 - train_regression_loss: 1.8981"
     ]
    },
    {
     "name": "stderr",
     "output_type": "stream",
     "text": [
      "2022-11-01 14:48:29.504591: E tensorflow/core/framework/dataset.cc:825] Unimplemented: Cannot merge options for dataset of type LoadDataset, because the dataset does not implement `InputDatasets`.\n"
     ]
    },
    {
     "name": "stdout",
     "output_type": "stream",
     "text": [
      "258376/258376 [==============================] - 591s 2ms/step - train_model_loss: 19.5343 - train_reconstruction_loss: 19.4212 - train_kl_loss: 0.0069 - train_regression_loss: 2.3659 - val_model_loss: 19.5538 - val_reconstruction_loss: 19.4245 - val_kl_loss: 0.0065 - val_regression_loss: 2.7159\n",
      "\n",
      "epoch 56\n",
      "Converged. Stall: 2/10\n",
      "     0/258376 [..............................] - ETA: 0s - train_model_loss: 19.7192 - train_reconstruction_loss: 19.5008 - train_kl_loss: 0.0056 - train_regression_loss: 4.4356"
     ]
    },
    {
     "name": "stderr",
     "output_type": "stream",
     "text": [
      "2022-11-01 14:49:05.022061: E tensorflow/core/framework/dataset.cc:825] Unimplemented: Cannot merge options for dataset of type LoadDataset, because the dataset does not implement `InputDatasets`.\n"
     ]
    },
    {
     "name": "stdout",
     "output_type": "stream",
     "text": [
      "258368/258376 [============================>.] - ETA: 0s - train_model_loss: 19.0609 - train_reconstruction_loss: 18.8882 - train_kl_loss: 0.0012 - train_regression_loss: 4.2711"
     ]
    },
    {
     "name": "stderr",
     "output_type": "stream",
     "text": [
      "2022-11-01 14:56:17.089565: E tensorflow/core/framework/dataset.cc:825] Unimplemented: Cannot merge options for dataset of type LoadDataset, because the dataset does not implement `InputDatasets`.\n"
     ]
    },
    {
     "name": "stdout",
     "output_type": "stream",
     "text": [
      "258376/258376 [==============================] - 474s 2ms/step - train_model_loss: 19.5341 - train_reconstruction_loss: 19.4212 - train_kl_loss: 0.0069 - train_regression_loss: 2.3600 - val_model_loss: 19.5543 - val_reconstruction_loss: 19.4250 - val_kl_loss: 0.0066 - val_regression_loss: 2.7133\n",
      "\n",
      "epoch 57\n",
      "Converged. Stall: 3/10\n",
      "    64/258376 [..............................] - ETA: 12:17 - train_model_loss: 18.8744 - train_reconstruction_loss: 18.7300 - train_kl_loss: 0.0032 - train_regression_loss: 3.0841"
     ]
    },
    {
     "name": "stderr",
     "output_type": "stream",
     "text": [
      "2022-11-01 14:56:59.368239: E tensorflow/core/framework/dataset.cc:825] Unimplemented: Cannot merge options for dataset of type LoadDataset, because the dataset does not implement `InputDatasets`.\n"
     ]
    },
    {
     "name": "stdout",
     "output_type": "stream",
     "text": [
      "258336/258376 [============================>.] - ETA: 0s - train_model_loss: 19.3894 - train_reconstruction_loss: 19.2868 - train_kl_loss: 0.0079 - train_regression_loss: 1.9795"
     ]
    },
    {
     "name": "stderr",
     "output_type": "stream",
     "text": [
      "2022-11-01 15:04:16.848711: E tensorflow/core/framework/dataset.cc:825] Unimplemented: Cannot merge options for dataset of type LoadDataset, because the dataset does not implement `InputDatasets`.\n"
     ]
    },
    {
     "name": "stdout",
     "output_type": "stream",
     "text": [
      "258376/258376 [==============================] - 474s 2ms/step - train_model_loss: 19.5339 - train_reconstruction_loss: 19.4212 - train_kl_loss: 0.0071 - train_regression_loss: 2.3559 - val_model_loss: 19.5541 - val_reconstruction_loss: 19.4245 - val_kl_loss: 0.0071 - val_regression_loss: 2.7145\n",
      "\n",
      "epoch 58\n",
      "Converged. Stall: 4/10\n",
      "    64/258376 [..............................] - ETA: 11:20 - train_model_loss: 18.9060 - train_reconstruction_loss: 18.7436 - train_kl_loss: 0.0036 - train_regression_loss: 3.4695"
     ]
    },
    {
     "name": "stderr",
     "output_type": "stream",
     "text": [
      "2022-11-01 15:04:53.392004: E tensorflow/core/framework/dataset.cc:825] Unimplemented: Cannot merge options for dataset of type LoadDataset, because the dataset does not implement `InputDatasets`.\n"
     ]
    },
    {
     "name": "stdout",
     "output_type": "stream",
     "text": [
      "258368/258376 [============================>.] - ETA: 0s - train_model_loss: 19.0801 - train_reconstruction_loss: 18.9119 - train_kl_loss: 0.0013 - train_regression_loss: 4.1611"
     ]
    },
    {
     "name": "stderr",
     "output_type": "stream",
     "text": [
      "2022-11-01 15:13:17.564092: E tensorflow/core/framework/dataset.cc:825] Unimplemented: Cannot merge options for dataset of type LoadDataset, because the dataset does not implement `InputDatasets`.\n"
     ]
    },
    {
     "name": "stdout",
     "output_type": "stream",
     "text": [
      "258376/258376 [==============================] - 548s 2ms/step - train_model_loss: 19.5337 - train_reconstruction_loss: 19.4210 - train_kl_loss: 0.0070 - train_regression_loss: 2.3548 - val_model_loss: 19.5538 - val_reconstruction_loss: 19.4249 - val_kl_loss: 0.0067 - val_regression_loss: 2.7047\n",
      "\n",
      "epoch 59\n",
      "Converged. Stall: 5/10\n",
      "    64/258376 [..............................] - ETA: 12:20 - train_model_loss: 18.8874 - train_reconstruction_loss: 18.7299 - train_kl_loss: 0.0035 - train_regression_loss: 3.3643"
     ]
    },
    {
     "name": "stderr",
     "output_type": "stream",
     "text": [
      "2022-11-01 15:14:01.223005: E tensorflow/core/framework/dataset.cc:825] Unimplemented: Cannot merge options for dataset of type LoadDataset, because the dataset does not implement `InputDatasets`.\n"
     ]
    },
    {
     "name": "stdout",
     "output_type": "stream",
     "text": [
      "258368/258376 [============================>.] - ETA: 0s - train_model_loss: 19.0571 - train_reconstruction_loss: 18.9002 - train_kl_loss: 0.0014 - train_regression_loss: 3.8789"
     ]
    },
    {
     "name": "stderr",
     "output_type": "stream",
     "text": [
      "2022-11-01 15:22:03.066207: E tensorflow/core/framework/dataset.cc:825] Unimplemented: Cannot merge options for dataset of type LoadDataset, because the dataset does not implement `InputDatasets`.\n"
     ]
    },
    {
     "name": "stdout",
     "output_type": "stream",
     "text": [
      "258376/258376 [==============================] - 526s 2ms/step - train_model_loss: 19.5334 - train_reconstruction_loss: 19.4211 - train_kl_loss: 0.0071 - train_regression_loss: 2.3464 - val_model_loss: 19.5548 - val_reconstruction_loss: 19.4254 - val_kl_loss: 0.0067 - val_regression_loss: 2.7152\n",
      "\n",
      "epoch 60\n",
      "Converged. Stall: 6/10\n",
      "     0/258376 [..............................] - ETA: 0s - train_model_loss: 19.7343 - train_reconstruction_loss: 19.5072 - train_kl_loss: 0.0050 - train_regression_loss: 4.6206"
     ]
    },
    {
     "name": "stderr",
     "output_type": "stream",
     "text": [
      "2022-11-01 15:22:46.920249: E tensorflow/core/framework/dataset.cc:825] Unimplemented: Cannot merge options for dataset of type LoadDataset, because the dataset does not implement `InputDatasets`.\n"
     ]
    },
    {
     "name": "stdout",
     "output_type": "stream",
     "text": [
      "258336/258376 [============================>.] - ETA: 0s - train_model_loss: 19.4019 - train_reconstruction_loss: 19.2976 - train_kl_loss: 0.0077 - train_regression_loss: 2.0178"
     ]
    },
    {
     "name": "stderr",
     "output_type": "stream",
     "text": [
      "2022-11-01 15:31:10.517157: E tensorflow/core/framework/dataset.cc:825] Unimplemented: Cannot merge options for dataset of type LoadDataset, because the dataset does not implement `InputDatasets`.\n"
     ]
    },
    {
     "name": "stdout",
     "output_type": "stream",
     "text": [
      "258376/258376 [==============================] - 545s 2ms/step - train_model_loss: 19.5331 - train_reconstruction_loss: 19.4209 - train_kl_loss: 0.0071 - train_regression_loss: 2.3440 - val_model_loss: 19.5536 - val_reconstruction_loss: 19.4250 - val_kl_loss: 0.0064 - val_regression_loss: 2.7020\n",
      "\n",
      "epoch 61\n",
      "Converged. Stall: 7/10\n",
      "    64/258376 [..............................] - ETA: 12:58 - train_model_loss: 18.8780 - train_reconstruction_loss: 18.7285 - train_kl_loss: 0.0036 - train_regression_loss: 3.1913"
     ]
    },
    {
     "name": "stderr",
     "output_type": "stream",
     "text": [
      "2022-11-01 15:31:52.228598: E tensorflow/core/framework/dataset.cc:825] Unimplemented: Cannot merge options for dataset of type LoadDataset, because the dataset does not implement `InputDatasets`.\n"
     ]
    },
    {
     "name": "stdout",
     "output_type": "stream",
     "text": [
      "206432/258376 [======================>.......] - ETA: 2:13 - train_model_loss: 19.5259 - train_reconstruction_loss: 19.4053 - train_kl_loss: 0.0057 - train_regression_loss: 2.5071- ETA: 3:26 - tra - ETA: 3:25 - train_model_loss: 1 - ETA: 3:26 - train_model_loss: 19.5661 - train_reconstruction_loss: 19.4182 - train_kl_loss: 0.0047 - train_regression_loss: 2.9 - ETA: 3:26 - train_model_loss: 20.1276 - train_reconstruction_loss: "
     ]
    }
   ],
   "source": [
    "# Train model\n",
    "model, preds_df, model_outdir = train(model, train_batches, val_batches, train_df,\n",
    "                        optimizer=optimizer,\n",
    "                        loss_weights=loss_weights           \n",
    "                        )"
   ]
  },
  {
   "cell_type": "markdown",
   "metadata": {},
   "source": [
    "### Plot latent space"
   ]
  },
  {
   "cell_type": "code",
   "execution_count": null,
   "metadata": {},
   "outputs": [],
   "source": [
    "plots_outdir = model_outdir / 'plots'\n",
    "\n",
    "fig, ax = plot_latent_space(preds_df, plots_outdir=plots_outdir, assay=\"LY6C1\")"
   ]
  },
  {
   "cell_type": "markdown",
   "metadata": {},
   "source": [
    "## Generate novel sequences"
   ]
  },
  {
   "cell_type": "code",
   "execution_count": null,
   "metadata": {},
   "outputs": [],
   "source": [
    "sequences_outdir = model_outdir / 'sequences'\n",
    "cluster_model_outdir = model_outdir / 'kmeans_models'\n",
    "generated_sequences_dict, generated_sequences_list = generate_sequences(preds_df, \n",
    "    assay='LY6C1',\n",
    "    show_plots=True,\n",
    "    show_logos=False,\n",
    "    show_subcluster_plots=True,\n",
    "    show_sublogos=False,\n",
    "    plots_outdir=plots_outdir,\n",
    "    cluster_model_outdir=cluster_model_outdir,\n",
    "    subcluster_model_outdir=cluster_model_outdir,\n",
    "    sequences_outdir=sequences_outdir,\n",
    "    AA_percentile_threshold=80\n",
    "    )"
   ]
  },
  {
   "cell_type": "code",
   "execution_count": null,
   "metadata": {},
   "outputs": [],
   "source": []
  }
 ],
 "metadata": {
  "kernelspec": {
   "display_name": "Python 3 (ipykernel)",
   "language": "python",
   "name": "python3"
  },
  "language_info": {
   "codemirror_mode": {
    "name": "ipython",
    "version": 3
   },
   "file_extension": ".py",
   "mimetype": "text/x-python",
   "name": "python",
   "nbconvert_exporter": "python",
   "pygments_lexer": "ipython3",
   "version": "3.9.14"
  },
  "vscode": {
   "interpreter": {
    "hash": "00dedd32bda6164f33307b9f113fca69379b5d26ecb5a9003c28a7bd4ecd46dd"
   }
  }
 },
 "nbformat": 4,
 "nbformat_minor": 4
}
